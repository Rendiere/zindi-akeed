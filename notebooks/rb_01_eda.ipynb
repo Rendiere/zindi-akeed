{
 "cells": [
  {
   "cell_type": "markdown",
   "metadata": {},
   "source": [
    "# EDA\n",
    "\n",
    "Open up all the files, explore their insides and take note of any insights for moving forward. \n",
    "\n",
    "\n",
    "## Insights\n",
    "\n",
    "* Some customers visit many locations, some visit only 1\n",
    "* So, for each customer, we need to make a prediction for every vendor for every location that customer visited.\n",
    "*  ~250 customers in test dataset with missing meta data information. "
   ]
  },
  {
   "cell_type": "code",
   "execution_count": 31,
   "metadata": {},
   "outputs": [
    {
     "name": "stdout",
     "output_type": "stream",
     "text": [
      "The autoreload extension is already loaded. To reload it, use:\n",
      "  %reload_ext autoreload\n"
     ]
    }
   ],
   "source": [
    "import os\n",
    "import pandas as pd\n",
    "import seaborn as sns\n",
    "import geopandas as gpd\n",
    "\n",
    "from pathlib import Path\n",
    "\n",
    "import hvplot.pandas\n",
    "\n",
    "pd.set_option('display.max_columns', None)\n",
    "\n",
    "%load_ext autoreload\n",
    "%autoreload 2"
   ]
  },
  {
   "cell_type": "code",
   "execution_count": 2,
   "metadata": {},
   "outputs": [
    {
     "data": {
      "text/plain": [
       "['../data/raw/orders.csv',\n",
       " '../data/raw/SampleSubmission.csv',\n",
       " '../data/raw/test_locations.csv',\n",
       " '../data/raw/train_locations.csv',\n",
       " '../data/raw/vendors.csv',\n",
       " '../data/raw/test_customers.csv',\n",
       " '../data/raw/train_customers.csv']"
      ]
     },
     "execution_count": 2,
     "metadata": {},
     "output_type": "execute_result"
    }
   ],
   "source": [
    "pth = Path('../data/raw/')\n",
    "files = list(map(str, pth.glob('*.csv')))\n",
    "files"
   ]
  },
  {
   "cell_type": "markdown",
   "metadata": {},
   "source": [
    "## Load All Datasets"
   ]
  },
  {
   "cell_type": "code",
   "execution_count": 3,
   "metadata": {},
   "outputs": [
    {
     "name": "stderr",
     "output_type": "stream",
     "text": [
      "/Users/renierbotha/anaconda3/envs/zindi-akeed/lib/python3.7/site-packages/IPython/core/interactiveshell.py:3063: DtypeWarning: Columns (15,16,18,19,20) have mixed types.Specify dtype option on import or set low_memory=False.\n",
      "  interactivity=interactivity, compiler=compiler, result=result)\n"
     ]
    }
   ],
   "source": [
    "orders = pd.read_csv('../data/raw/orders.csv')\n",
    "\n",
    "tr_locations = pd.read_csv('../data/raw/train_locations.csv')\n",
    "te_locations = pd.read_csv('../data/raw/test_locations.csv')\n",
    "\n",
    "vendors = pd.read_csv('../data/raw/vendors.csv')\n",
    "\n",
    "\n",
    "tr_customers = pd.read_csv('../data/raw/train_customers.csv')\n",
    "te_customers = pd.read_csv('../data/raw/test_customers.csv')\n",
    "\n",
    "sample_sub = pd.read_csv('../data/raw/SampleSubmission.csv')"
   ]
  },
  {
   "cell_type": "markdown",
   "metadata": {},
   "source": [
    "## Explore Datasets"
   ]
  },
  {
   "cell_type": "markdown",
   "metadata": {},
   "source": [
    "### Sample Sub"
   ]
  },
  {
   "cell_type": "code",
   "execution_count": 4,
   "metadata": {},
   "outputs": [
    {
     "data": {
      "text/html": [
       "<div>\n",
       "<style scoped>\n",
       "    .dataframe tbody tr th:only-of-type {\n",
       "        vertical-align: middle;\n",
       "    }\n",
       "\n",
       "    .dataframe tbody tr th {\n",
       "        vertical-align: top;\n",
       "    }\n",
       "\n",
       "    .dataframe thead th {\n",
       "        text-align: right;\n",
       "    }\n",
       "</style>\n",
       "<table border=\"1\" class=\"dataframe\">\n",
       "  <thead>\n",
       "    <tr style=\"text-align: right;\">\n",
       "      <th></th>\n",
       "      <th>CID X LOC_NUM X VENDOR</th>\n",
       "      <th>target</th>\n",
       "    </tr>\n",
       "  </thead>\n",
       "  <tbody>\n",
       "    <tr>\n",
       "      <th>0</th>\n",
       "      <td>Z59FTQD X 0 X 243</td>\n",
       "      <td>0</td>\n",
       "    </tr>\n",
       "    <tr>\n",
       "      <th>1</th>\n",
       "      <td>0JP29SK X 0 X 243</td>\n",
       "      <td>0</td>\n",
       "    </tr>\n",
       "    <tr>\n",
       "      <th>2</th>\n",
       "      <td>0JP29SK X 1 X 243</td>\n",
       "      <td>0</td>\n",
       "    </tr>\n",
       "    <tr>\n",
       "      <th>3</th>\n",
       "      <td>0JP29SK X 2 X 243</td>\n",
       "      <td>0</td>\n",
       "    </tr>\n",
       "    <tr>\n",
       "      <th>4</th>\n",
       "      <td>0JP29SK X 3 X 243</td>\n",
       "      <td>0</td>\n",
       "    </tr>\n",
       "  </tbody>\n",
       "</table>\n",
       "</div>"
      ],
      "text/plain": [
       "  CID X LOC_NUM X VENDOR  target\n",
       "0      Z59FTQD X 0 X 243       0\n",
       "1      0JP29SK X 0 X 243       0\n",
       "2      0JP29SK X 1 X 243       0\n",
       "3      0JP29SK X 2 X 243       0\n",
       "4      0JP29SK X 3 X 243       0"
      ]
     },
     "execution_count": 4,
     "metadata": {},
     "output_type": "execute_result"
    }
   ],
   "source": [
    "sample_sub.head()"
   ]
  },
  {
   "cell_type": "markdown",
   "metadata": {},
   "source": [
    "Expand the index col"
   ]
  },
  {
   "cell_type": "code",
   "execution_count": 5,
   "metadata": {},
   "outputs": [],
   "source": [
    "sample_sub[['customer_id','location_number','vendor_id']] = sample_sub['CID X LOC_NUM X VENDOR'].str.split(' X ', expand=True)"
   ]
  },
  {
   "cell_type": "code",
   "execution_count": 6,
   "metadata": {},
   "outputs": [
    {
     "data": {
      "text/plain": [
       "(1672000, 5)"
      ]
     },
     "execution_count": 6,
     "metadata": {},
     "output_type": "execute_result"
    }
   ],
   "source": [
    "sample_sub.shape"
   ]
  },
  {
   "cell_type": "code",
   "execution_count": 7,
   "metadata": {},
   "outputs": [
    {
     "name": "stdout",
     "output_type": "stream",
     "text": [
      "10000 Customers in Sample Submission\n"
     ]
    }
   ],
   "source": [
    "print('{} Customers in Sample Submission'.format(sample_sub.customer_id.nunique()))"
   ]
  },
  {
   "cell_type": "code",
   "execution_count": 8,
   "metadata": {},
   "outputs": [
    {
     "data": {
      "text/html": [
       "<div>\n",
       "<style scoped>\n",
       "    .dataframe tbody tr th:only-of-type {\n",
       "        vertical-align: middle;\n",
       "    }\n",
       "\n",
       "    .dataframe tbody tr th {\n",
       "        vertical-align: top;\n",
       "    }\n",
       "\n",
       "    .dataframe thead th {\n",
       "        text-align: right;\n",
       "    }\n",
       "</style>\n",
       "<table border=\"1\" class=\"dataframe\">\n",
       "  <thead>\n",
       "    <tr style=\"text-align: right;\">\n",
       "      <th></th>\n",
       "      <th>CID X LOC_NUM X VENDOR</th>\n",
       "      <th>target</th>\n",
       "      <th>customer_id</th>\n",
       "      <th>location_number</th>\n",
       "      <th>vendor_id</th>\n",
       "    </tr>\n",
       "  </thead>\n",
       "  <tbody>\n",
       "    <tr>\n",
       "      <th>640979</th>\n",
       "      <td>000IPH5 X 0 X 104</td>\n",
       "      <td>0</td>\n",
       "      <td>000IPH5</td>\n",
       "      <td>0</td>\n",
       "      <td>104</td>\n",
       "    </tr>\n",
       "    <tr>\n",
       "      <th>523939</th>\n",
       "      <td>000IPH5 X 0 X 110</td>\n",
       "      <td>0</td>\n",
       "      <td>000IPH5</td>\n",
       "      <td>0</td>\n",
       "      <td>110</td>\n",
       "    </tr>\n",
       "    <tr>\n",
       "      <th>1594019</th>\n",
       "      <td>000IPH5 X 0 X 849</td>\n",
       "      <td>0</td>\n",
       "      <td>000IPH5</td>\n",
       "      <td>0</td>\n",
       "      <td>849</td>\n",
       "    </tr>\n",
       "    <tr>\n",
       "      <th>1393379</th>\n",
       "      <td>000IPH5 X 0 X 577</td>\n",
       "      <td>0</td>\n",
       "      <td>000IPH5</td>\n",
       "      <td>0</td>\n",
       "      <td>577</td>\n",
       "    </tr>\n",
       "    <tr>\n",
       "      <th>941939</th>\n",
       "      <td>000IPH5 X 0 X 28</td>\n",
       "      <td>0</td>\n",
       "      <td>000IPH5</td>\n",
       "      <td>0</td>\n",
       "      <td>28</td>\n",
       "    </tr>\n",
       "  </tbody>\n",
       "</table>\n",
       "</div>"
      ],
      "text/plain": [
       "        CID X LOC_NUM X VENDOR  target customer_id location_number vendor_id\n",
       "640979       000IPH5 X 0 X 104       0     000IPH5               0       104\n",
       "523939       000IPH5 X 0 X 110       0     000IPH5               0       110\n",
       "1594019      000IPH5 X 0 X 849       0     000IPH5               0       849\n",
       "1393379      000IPH5 X 0 X 577       0     000IPH5               0       577\n",
       "941939        000IPH5 X 0 X 28       0     000IPH5               0        28"
      ]
     },
     "execution_count": 8,
     "metadata": {},
     "output_type": "execute_result"
    }
   ],
   "source": [
    "sample_sub.sort_values(by='customer_id').head()"
   ]
  },
  {
   "cell_type": "code",
   "execution_count": 9,
   "metadata": {},
   "outputs": [
    {
     "data": {
      "text/plain": [
       "T1L5K29    1200\n",
       "PEHRJ52    1100\n",
       "529ZR7J    1000\n",
       "NQJU5X3    1000\n",
       "BKLWPZ8     900\n",
       "           ... \n",
       "H0HCHGV     100\n",
       "RNUSP71     100\n",
       "6084EOL     100\n",
       "AM8QD5Y     100\n",
       "ZY9HY8Y     100\n",
       "Name: customer_id, Length: 10000, dtype: int64"
      ]
     },
     "execution_count": 9,
     "metadata": {},
     "output_type": "execute_result"
    }
   ],
   "source": [
    "# Number of predictions per customer\n",
    "sample_sub.customer_id.value_counts()"
   ]
  },
  {
   "cell_type": "code",
   "execution_count": 10,
   "metadata": {},
   "outputs": [
    {
     "name": "stdout",
     "output_type": "stream",
     "text": [
      "This customer visited 12 locations\n"
     ]
    },
    {
     "data": {
      "text/html": [
       "<div>\n",
       "<style scoped>\n",
       "    .dataframe tbody tr th:only-of-type {\n",
       "        vertical-align: middle;\n",
       "    }\n",
       "\n",
       "    .dataframe tbody tr th {\n",
       "        vertical-align: top;\n",
       "    }\n",
       "\n",
       "    .dataframe thead th {\n",
       "        text-align: right;\n",
       "    }\n",
       "</style>\n",
       "<table border=\"1\" class=\"dataframe\">\n",
       "  <thead>\n",
       "    <tr style=\"text-align: right;\">\n",
       "      <th></th>\n",
       "      <th>CID X LOC_NUM X VENDOR</th>\n",
       "      <th>target</th>\n",
       "      <th>customer_id</th>\n",
       "      <th>location_number</th>\n",
       "      <th>vendor_id</th>\n",
       "    </tr>\n",
       "  </thead>\n",
       "  <tbody>\n",
       "    <tr>\n",
       "      <th>4362</th>\n",
       "      <td>T1L5K29 X 0 X 243</td>\n",
       "      <td>0</td>\n",
       "      <td>T1L5K29</td>\n",
       "      <td>0</td>\n",
       "      <td>243</td>\n",
       "    </tr>\n",
       "    <tr>\n",
       "      <th>957402</th>\n",
       "      <td>T1L5K29 X 0 X 294</td>\n",
       "      <td>0</td>\n",
       "      <td>T1L5K29</td>\n",
       "      <td>0</td>\n",
       "      <td>294</td>\n",
       "    </tr>\n",
       "    <tr>\n",
       "      <th>322042</th>\n",
       "      <td>T1L5K29 X 0 X 4</td>\n",
       "      <td>0</td>\n",
       "      <td>T1L5K29</td>\n",
       "      <td>0</td>\n",
       "      <td>4</td>\n",
       "    </tr>\n",
       "    <tr>\n",
       "      <th>1341962</th>\n",
       "      <td>T1L5K29 X 0 X 216</td>\n",
       "      <td>0</td>\n",
       "      <td>T1L5K29</td>\n",
       "      <td>0</td>\n",
       "      <td>216</td>\n",
       "    </tr>\n",
       "    <tr>\n",
       "      <th>940682</th>\n",
       "      <td>T1L5K29 X 0 X 28</td>\n",
       "      <td>0</td>\n",
       "      <td>T1L5K29</td>\n",
       "      <td>0</td>\n",
       "      <td>28</td>\n",
       "    </tr>\n",
       "    <tr>\n",
       "      <th>...</th>\n",
       "      <td>...</td>\n",
       "      <td>...</td>\n",
       "      <td>...</td>\n",
       "      <td>...</td>\n",
       "      <td>...</td>\n",
       "    </tr>\n",
       "    <tr>\n",
       "      <th>773491</th>\n",
       "      <td>T1L5K29 X 9 X 288</td>\n",
       "      <td>0</td>\n",
       "      <td>T1L5K29</td>\n",
       "      <td>9</td>\n",
       "      <td>288</td>\n",
       "    </tr>\n",
       "    <tr>\n",
       "      <th>37811</th>\n",
       "      <td>T1L5K29 X 9 X 250</td>\n",
       "      <td>0</td>\n",
       "      <td>T1L5K29</td>\n",
       "      <td>9</td>\n",
       "      <td>250</td>\n",
       "    </tr>\n",
       "    <tr>\n",
       "      <th>1425571</th>\n",
       "      <td>T1L5K29 X 9 X 582</td>\n",
       "      <td>0</td>\n",
       "      <td>T1L5K29</td>\n",
       "      <td>9</td>\n",
       "      <td>582</td>\n",
       "    </tr>\n",
       "    <tr>\n",
       "      <th>689891</th>\n",
       "      <td>T1L5K29 X 9 X 180</td>\n",
       "      <td>0</td>\n",
       "      <td>T1L5K29</td>\n",
       "      <td>9</td>\n",
       "      <td>180</td>\n",
       "    </tr>\n",
       "    <tr>\n",
       "      <th>505971</th>\n",
       "      <td>T1L5K29 X 9 X 92</td>\n",
       "      <td>0</td>\n",
       "      <td>T1L5K29</td>\n",
       "      <td>9</td>\n",
       "      <td>92</td>\n",
       "    </tr>\n",
       "  </tbody>\n",
       "</table>\n",
       "<p>1200 rows × 5 columns</p>\n",
       "</div>"
      ],
      "text/plain": [
       "        CID X LOC_NUM X VENDOR  target customer_id location_number vendor_id\n",
       "4362         T1L5K29 X 0 X 243       0     T1L5K29               0       243\n",
       "957402       T1L5K29 X 0 X 294       0     T1L5K29               0       294\n",
       "322042         T1L5K29 X 0 X 4       0     T1L5K29               0         4\n",
       "1341962      T1L5K29 X 0 X 216       0     T1L5K29               0       216\n",
       "940682        T1L5K29 X 0 X 28       0     T1L5K29               0        28\n",
       "...                        ...     ...         ...             ...       ...\n",
       "773491       T1L5K29 X 9 X 288       0     T1L5K29               9       288\n",
       "37811        T1L5K29 X 9 X 250       0     T1L5K29               9       250\n",
       "1425571      T1L5K29 X 9 X 582       0     T1L5K29               9       582\n",
       "689891       T1L5K29 X 9 X 180       0     T1L5K29               9       180\n",
       "505971        T1L5K29 X 9 X 92       0     T1L5K29               9        92\n",
       "\n",
       "[1200 rows x 5 columns]"
      ]
     },
     "execution_count": 10,
     "metadata": {},
     "output_type": "execute_result"
    }
   ],
   "source": [
    "inspect = sample_sub.query('customer_id == \"T1L5K29\"')\n",
    "print('This customer visited {} locations'.format(inspect.location_number.nunique()))\n",
    "inspect.sort_values(by='location_number')"
   ]
  },
  {
   "cell_type": "markdown",
   "metadata": {},
   "source": [
    "**Insight**: So, for each customer, we need to make a prediction for every vendor _for every location that customer visited_. \n",
    "\n",
    "Vendors are obviously linked to some locations, so recommending certain vendors for certain locations would not make sense. We would either need to encode this link in the modelling step somehow, or post-process recommendations based on this prior knowledge. "
   ]
  },
  {
   "cell_type": "markdown",
   "metadata": {},
   "source": [
    "### Orders"
   ]
  },
  {
   "cell_type": "code",
   "execution_count": 12,
   "metadata": {},
   "outputs": [
    {
     "data": {
      "text/plain": [
       "(135303, 26)"
      ]
     },
     "execution_count": 12,
     "metadata": {},
     "output_type": "execute_result"
    }
   ],
   "source": [
    "orders.shape"
   ]
  },
  {
   "cell_type": "code",
   "execution_count": 11,
   "metadata": {},
   "outputs": [
    {
     "data": {
      "text/html": [
       "<div>\n",
       "<style scoped>\n",
       "    .dataframe tbody tr th:only-of-type {\n",
       "        vertical-align: middle;\n",
       "    }\n",
       "\n",
       "    .dataframe tbody tr th {\n",
       "        vertical-align: top;\n",
       "    }\n",
       "\n",
       "    .dataframe thead th {\n",
       "        text-align: right;\n",
       "    }\n",
       "</style>\n",
       "<table border=\"1\" class=\"dataframe\">\n",
       "  <thead>\n",
       "    <tr style=\"text-align: right;\">\n",
       "      <th></th>\n",
       "      <th>akeed_order_id</th>\n",
       "      <th>customer_id</th>\n",
       "      <th>item_count</th>\n",
       "      <th>grand_total</th>\n",
       "      <th>payment_mode</th>\n",
       "      <th>promo_code</th>\n",
       "      <th>vendor_discount_amount</th>\n",
       "      <th>promo_code_discount_percentage</th>\n",
       "      <th>is_favorite</th>\n",
       "      <th>is_rated</th>\n",
       "      <th>vendor_rating</th>\n",
       "      <th>driver_rating</th>\n",
       "      <th>deliverydistance</th>\n",
       "      <th>preparationtime</th>\n",
       "      <th>delivery_time</th>\n",
       "      <th>order_accepted_time</th>\n",
       "      <th>driver_accepted_time</th>\n",
       "      <th>ready_for_pickup_time</th>\n",
       "      <th>picked_up_time</th>\n",
       "      <th>delivered_time</th>\n",
       "      <th>delivery_date</th>\n",
       "      <th>vendor_id</th>\n",
       "      <th>created_at</th>\n",
       "      <th>LOCATION_NUMBER</th>\n",
       "      <th>LOCATION_TYPE</th>\n",
       "      <th>CID X LOC_NUM X VENDOR</th>\n",
       "    </tr>\n",
       "  </thead>\n",
       "  <tbody>\n",
       "    <tr>\n",
       "      <th>0</th>\n",
       "      <td>163238.0</td>\n",
       "      <td>92PEE24</td>\n",
       "      <td>1.0</td>\n",
       "      <td>7.6</td>\n",
       "      <td>2</td>\n",
       "      <td>NaN</td>\n",
       "      <td>0.0</td>\n",
       "      <td>NaN</td>\n",
       "      <td>NaN</td>\n",
       "      <td>No</td>\n",
       "      <td>NaN</td>\n",
       "      <td>0.0</td>\n",
       "      <td>0.0</td>\n",
       "      <td>NaN</td>\n",
       "      <td>NaN</td>\n",
       "      <td>NaN</td>\n",
       "      <td>NaN</td>\n",
       "      <td>NaN</td>\n",
       "      <td>NaN</td>\n",
       "      <td>NaN</td>\n",
       "      <td>2019-07-31 05:30:00</td>\n",
       "      <td>105</td>\n",
       "      <td>2019-08-01 05:30:16</td>\n",
       "      <td>0</td>\n",
       "      <td>NaN</td>\n",
       "      <td>92PEE24 X 0 X 105</td>\n",
       "    </tr>\n",
       "    <tr>\n",
       "      <th>1</th>\n",
       "      <td>163240.0</td>\n",
       "      <td>QS68UD8</td>\n",
       "      <td>1.0</td>\n",
       "      <td>8.7</td>\n",
       "      <td>1</td>\n",
       "      <td>NaN</td>\n",
       "      <td>0.0</td>\n",
       "      <td>NaN</td>\n",
       "      <td>NaN</td>\n",
       "      <td>No</td>\n",
       "      <td>NaN</td>\n",
       "      <td>0.0</td>\n",
       "      <td>0.0</td>\n",
       "      <td>NaN</td>\n",
       "      <td>NaN</td>\n",
       "      <td>NaN</td>\n",
       "      <td>NaN</td>\n",
       "      <td>NaN</td>\n",
       "      <td>NaN</td>\n",
       "      <td>NaN</td>\n",
       "      <td>2019-07-31 05:30:00</td>\n",
       "      <td>294</td>\n",
       "      <td>2019-08-01 05:31:10</td>\n",
       "      <td>0</td>\n",
       "      <td>Work</td>\n",
       "      <td>QS68UD8 X 0 X 294</td>\n",
       "    </tr>\n",
       "    <tr>\n",
       "      <th>2</th>\n",
       "      <td>163241.0</td>\n",
       "      <td>MB7VY5F</td>\n",
       "      <td>2.0</td>\n",
       "      <td>14.4</td>\n",
       "      <td>1</td>\n",
       "      <td>NaN</td>\n",
       "      <td>0.0</td>\n",
       "      <td>NaN</td>\n",
       "      <td>NaN</td>\n",
       "      <td>No</td>\n",
       "      <td>NaN</td>\n",
       "      <td>0.0</td>\n",
       "      <td>0.0</td>\n",
       "      <td>NaN</td>\n",
       "      <td>NaN</td>\n",
       "      <td>NaN</td>\n",
       "      <td>NaN</td>\n",
       "      <td>NaN</td>\n",
       "      <td>NaN</td>\n",
       "      <td>NaN</td>\n",
       "      <td>2019-07-31 05:30:00</td>\n",
       "      <td>83</td>\n",
       "      <td>2019-08-01 05:31:33</td>\n",
       "      <td>0</td>\n",
       "      <td>NaN</td>\n",
       "      <td>MB7VY5F X 0 X 83</td>\n",
       "    </tr>\n",
       "    <tr>\n",
       "      <th>3</th>\n",
       "      <td>163244.0</td>\n",
       "      <td>KDJ951Y</td>\n",
       "      <td>1.0</td>\n",
       "      <td>7.1</td>\n",
       "      <td>1</td>\n",
       "      <td>NaN</td>\n",
       "      <td>0.0</td>\n",
       "      <td>NaN</td>\n",
       "      <td>NaN</td>\n",
       "      <td>No</td>\n",
       "      <td>NaN</td>\n",
       "      <td>0.0</td>\n",
       "      <td>0.0</td>\n",
       "      <td>NaN</td>\n",
       "      <td>2019-08-01 04:03:00</td>\n",
       "      <td>NaN</td>\n",
       "      <td>NaN</td>\n",
       "      <td>NaN</td>\n",
       "      <td>NaN</td>\n",
       "      <td>NaN</td>\n",
       "      <td>2019-07-31 05:30:00</td>\n",
       "      <td>90</td>\n",
       "      <td>2019-08-01 05:34:54</td>\n",
       "      <td>0</td>\n",
       "      <td>Home</td>\n",
       "      <td>KDJ951Y X 0 X 90</td>\n",
       "    </tr>\n",
       "    <tr>\n",
       "      <th>4</th>\n",
       "      <td>163245.0</td>\n",
       "      <td>BAL0RVT</td>\n",
       "      <td>4.0</td>\n",
       "      <td>27.2</td>\n",
       "      <td>1</td>\n",
       "      <td>NaN</td>\n",
       "      <td>0.0</td>\n",
       "      <td>NaN</td>\n",
       "      <td>NaN</td>\n",
       "      <td>No</td>\n",
       "      <td>NaN</td>\n",
       "      <td>0.0</td>\n",
       "      <td>0.0</td>\n",
       "      <td>NaN</td>\n",
       "      <td>NaN</td>\n",
       "      <td>NaN</td>\n",
       "      <td>NaN</td>\n",
       "      <td>NaN</td>\n",
       "      <td>NaN</td>\n",
       "      <td>NaN</td>\n",
       "      <td>2019-07-31 05:30:00</td>\n",
       "      <td>83</td>\n",
       "      <td>2019-08-01 05:35:51</td>\n",
       "      <td>0</td>\n",
       "      <td>Work</td>\n",
       "      <td>BAL0RVT X 0 X 83</td>\n",
       "    </tr>\n",
       "  </tbody>\n",
       "</table>\n",
       "</div>"
      ],
      "text/plain": [
       "   akeed_order_id customer_id  item_count  grand_total  payment_mode  \\\n",
       "0        163238.0     92PEE24         1.0          7.6             2   \n",
       "1        163240.0     QS68UD8         1.0          8.7             1   \n",
       "2        163241.0     MB7VY5F         2.0         14.4             1   \n",
       "3        163244.0     KDJ951Y         1.0          7.1             1   \n",
       "4        163245.0     BAL0RVT         4.0         27.2             1   \n",
       "\n",
       "  promo_code  vendor_discount_amount  promo_code_discount_percentage  \\\n",
       "0        NaN                     0.0                             NaN   \n",
       "1        NaN                     0.0                             NaN   \n",
       "2        NaN                     0.0                             NaN   \n",
       "3        NaN                     0.0                             NaN   \n",
       "4        NaN                     0.0                             NaN   \n",
       "\n",
       "  is_favorite is_rated  vendor_rating  driver_rating  deliverydistance  \\\n",
       "0         NaN       No            NaN            0.0               0.0   \n",
       "1         NaN       No            NaN            0.0               0.0   \n",
       "2         NaN       No            NaN            0.0               0.0   \n",
       "3         NaN       No            NaN            0.0               0.0   \n",
       "4         NaN       No            NaN            0.0               0.0   \n",
       "\n",
       "   preparationtime        delivery_time order_accepted_time  \\\n",
       "0              NaN                  NaN                 NaN   \n",
       "1              NaN                  NaN                 NaN   \n",
       "2              NaN                  NaN                 NaN   \n",
       "3              NaN  2019-08-01 04:03:00                 NaN   \n",
       "4              NaN                  NaN                 NaN   \n",
       "\n",
       "  driver_accepted_time ready_for_pickup_time picked_up_time delivered_time  \\\n",
       "0                  NaN                   NaN            NaN            NaN   \n",
       "1                  NaN                   NaN            NaN            NaN   \n",
       "2                  NaN                   NaN            NaN            NaN   \n",
       "3                  NaN                   NaN            NaN            NaN   \n",
       "4                  NaN                   NaN            NaN            NaN   \n",
       "\n",
       "         delivery_date  vendor_id           created_at  LOCATION_NUMBER  \\\n",
       "0  2019-07-31 05:30:00        105  2019-08-01 05:30:16                0   \n",
       "1  2019-07-31 05:30:00        294  2019-08-01 05:31:10                0   \n",
       "2  2019-07-31 05:30:00         83  2019-08-01 05:31:33                0   \n",
       "3  2019-07-31 05:30:00         90  2019-08-01 05:34:54                0   \n",
       "4  2019-07-31 05:30:00         83  2019-08-01 05:35:51                0   \n",
       "\n",
       "  LOCATION_TYPE CID X LOC_NUM X VENDOR  \n",
       "0           NaN      92PEE24 X 0 X 105  \n",
       "1          Work      QS68UD8 X 0 X 294  \n",
       "2           NaN       MB7VY5F X 0 X 83  \n",
       "3          Home       KDJ951Y X 0 X 90  \n",
       "4          Work       BAL0RVT X 0 X 83  "
      ]
     },
     "execution_count": 11,
     "metadata": {},
     "output_type": "execute_result"
    }
   ],
   "source": [
    "orders.head()"
   ]
  },
  {
   "cell_type": "code",
   "execution_count": 13,
   "metadata": {},
   "outputs": [
    {
     "data": {
      "text/plain": [
       "135221"
      ]
     },
     "execution_count": 13,
     "metadata": {},
     "output_type": "execute_result"
    }
   ],
   "source": [
    "orders.akeed_order_id.nunique()"
   ]
  },
  {
   "cell_type": "code",
   "execution_count": 14,
   "metadata": {},
   "outputs": [
    {
     "name": "stdout",
     "output_type": "stream",
     "text": [
      "Orders for 27445 different customers\n"
     ]
    }
   ],
   "source": [
    "print('Orders for {} different customers'.format(orders.customer_id.nunique()))"
   ]
  },
  {
   "cell_type": "code",
   "execution_count": 15,
   "metadata": {},
   "outputs": [
    {
     "name": "stdout",
     "output_type": "stream",
     "text": [
      "26779 Customers in training set with meta data & orders\n",
      "0 Customers in testing set with meta data & orders\n"
     ]
    }
   ],
   "source": [
    "customers_orders = set(orders.customer_id)\n",
    "print('{} Customers in training set with meta data & orders'.format(len(customers_orders.intersection(set(tr_customers.akeed_customer_id.unique())))))\n",
    "print('{} Customers in testing set with meta data & orders'.format(len(customers_orders.intersection(set(te_customers.akeed_customer_id.unique())))))"
   ]
  },
  {
   "cell_type": "code",
   "execution_count": 16,
   "metadata": {},
   "outputs": [
    {
     "name": "stdout",
     "output_type": "stream",
     "text": [
      "666 customers have order details, but no meta data.\n"
     ]
    }
   ],
   "source": [
    "print('{} customers have order details, but no meta data.'.format(len(customers_orders - set(tr_customers.akeed_customer_id.unique()))))"
   ]
  },
  {
   "cell_type": "markdown",
   "metadata": {},
   "source": [
    "**Insights** \n",
    "* We have no order details of test data customers \n",
    "* There are some customers in training set that have meta data, but no orders\n",
    "* Looks like there we have order details for some customers but no meta data"
   ]
  },
  {
   "cell_type": "code",
   "execution_count": 17,
   "metadata": {},
   "outputs": [
    {
     "data": {},
     "metadata": {},
     "output_type": "display_data"
    },
    {
     "data": {
      "application/vnd.holoviews_exec.v0+json": "",
      "text/html": [
       "<div id='1001'>\n",
       "\n",
       "\n",
       "\n",
       "\n",
       "\n",
       "  <div class=\"bk-root\" id=\"86c62172-f104-4973-a14c-0b7f420661ed\" data-root-id=\"1001\"></div>\n",
       "</div>\n",
       "<script type=\"application/javascript\">(function(root) {\n",
       "  function embed_document(root) {\n",
       "  var docs_json = {\"86be84fa-a33f-49ff-ab4b-5602b5af7abb\":{\"roots\":{\"references\":[{\"attributes\":{\"end\":20.659,\"reset_end\":20.659,\"reset_start\":-0.849,\"start\":-0.849,\"tags\":[[[\"deliverydistance\",\"deliverydistance\",null]]]},\"id\":\"1003\",\"type\":\"Range1d\"},{\"attributes\":{\"bottom\":{\"value\":0},\"fill_alpha\":{\"value\":0.1},\"fill_color\":{\"value\":\"#1f77b3\"},\"left\":{\"field\":\"left\"},\"line_alpha\":{\"value\":0.1},\"right\":{\"field\":\"right\"},\"top\":{\"field\":\"top\"}},\"id\":\"1040\",\"type\":\"Quad\"},{\"attributes\":{},\"id\":\"1023\",\"type\":\"SaveTool\"},{\"attributes\":{},\"id\":\"1047\",\"type\":\"BasicTickFormatter\"},{\"attributes\":{\"data_source\":{\"id\":\"1036\"},\"glyph\":{\"id\":\"1039\"},\"hover_glyph\":null,\"muted_glyph\":{\"id\":\"1041\"},\"nonselection_glyph\":{\"id\":\"1040\"},\"selection_glyph\":null,\"view\":{\"id\":\"1043\"}},\"id\":\"1042\",\"type\":\"GlyphRenderer\"},{\"attributes\":{},\"id\":\"1024\",\"type\":\"PanTool\"},{\"attributes\":{\"axis\":{\"id\":\"1019\"},\"dimension\":1,\"grid_line_color\":null,\"ticker\":null},\"id\":\"1022\",\"type\":\"Grid\"},{\"attributes\":{},\"id\":\"1025\",\"type\":\"WheelZoomTool\"},{\"attributes\":{},\"id\":\"1053\",\"type\":\"UnionRenderers\"},{\"attributes\":{\"overlay\":{\"id\":\"1028\"}},\"id\":\"1026\",\"type\":\"BoxZoomTool\"},{\"attributes\":{},\"id\":\"1037\",\"type\":\"Selection\"},{\"attributes\":{\"bottom\":{\"value\":0},\"fill_alpha\":{\"value\":0.2},\"fill_color\":{\"value\":\"#1f77b3\"},\"left\":{\"field\":\"left\"},\"line_alpha\":{\"value\":0.2},\"right\":{\"field\":\"right\"},\"top\":{\"field\":\"top\"}},\"id\":\"1041\",\"type\":\"Quad\"},{\"attributes\":{\"end\":62849.6,\"reset_end\":62849.6,\"reset_start\":0.0,\"tags\":[[[\"deliverydistance_count\",\"Count\",null]]]},\"id\":\"1004\",\"type\":\"Range1d\"},{\"attributes\":{},\"id\":\"1011\",\"type\":\"LinearScale\"},{\"attributes\":{},\"id\":\"1045\",\"type\":\"BasicTickFormatter\"},{\"attributes\":{\"margin\":[5,5,5,5],\"name\":\"HSpacer01537\",\"sizing_mode\":\"stretch_width\"},\"id\":\"1002\",\"type\":\"Spacer\"},{\"attributes\":{},\"id\":\"1027\",\"type\":\"ResetTool\"},{\"attributes\":{\"callback\":null,\"renderers\":[{\"id\":\"1042\"}],\"tags\":[\"hv_created\"],\"tooltips\":[[\"deliverydistance\",\"@{deliverydistance}\"],[\"Count\",\"@{deliverydistance_count}\"]]},\"id\":\"1005\",\"type\":\"HoverTool\"},{\"attributes\":{\"data\":{\"deliverydistance\":{\"__ndarray__\":\"GARWDi2y3z8Sg8DKocX3P4/C9ShczwNAlUOLbOe7C0BOYhBYOdQRQNAi2/l+yhVAVOOlm8TAGUDWo3A9CrcdQC2yne+n1iBAbhKDwMrRIkCwcmiR7cwkQPHSTWIQyCZAMzMzMzPDKEB0kxgEVr4qQLbz/dR4uSxA91PjpZu0LkAcWmQ731cwQD4K16NwVTFAXrpJDAJTMkB+arx0k1AzQA==\",\"dtype\":\"float64\",\"order\":\"little\",\"shape\":[20]},\"deliverydistance_count\":[57136,4660,6429,7240,6685,5725,7508,6124,7750,9509,5176,4256,2898,2122,1854,223,3,2,0,3],\"left\":{\"__ndarray__\":\"AAAAAAAAAAAYBFYOLbLvPxgEVg4tsv8/EoPAyqHFB0AYBFYOLbIPQI/C9ShczxNAEoPAyqHFF0CVQ4ts57sbQBgEVg4tsh9ATmIQWDnUIUCPwvUoXM8jQNAi2/l+yiVAEoPAyqHFJ0BU46WbxMApQJVDi2znuytA1qNwPQq3LUAYBFYOLbIvQC2yne+n1jBATmIQWDnUMUBuEoPAytEyQA==\",\"dtype\":\"float64\",\"order\":\"little\",\"shape\":[20]},\"right\":{\"__ndarray__\":\"GARWDi2y7z8YBFYOLbL/PxKDwMqhxQdAGARWDi2yD0CPwvUoXM8TQBKDwMqhxRdAlUOLbOe7G0AYBFYOLbIfQE5iEFg51CFAj8L1KFzPI0DQItv5fsolQBKDwMqhxSdAVOOlm8TAKUCVQ4ts57srQNajcD0Kty1AGARWDi2yL0Atsp3vp9YwQE5iEFg51DFAbhKDwMrRMkCPwvUoXM8zQA==\",\"dtype\":\"float64\",\"order\":\"little\",\"shape\":[20]},\"top\":[57136,4660,6429,7240,6685,5725,7508,6124,7750,9509,5176,4256,2898,2122,1854,223,3,2,0,3]},\"selected\":{\"id\":\"1037\"},\"selection_policy\":{\"id\":\"1053\"}},\"id\":\"1036\",\"type\":\"ColumnDataSource\"},{\"attributes\":{},\"id\":\"1013\",\"type\":\"LinearScale\"},{\"attributes\":{\"text\":\"\",\"text_color\":{\"value\":\"black\"},\"text_font_size\":{\"value\":\"12pt\"}},\"id\":\"1007\",\"type\":\"Title\"},{\"attributes\":{\"axis_label\":\"deliverydistance\",\"bounds\":\"auto\",\"formatter\":{\"id\":\"1045\"},\"major_label_orientation\":\"horizontal\",\"ticker\":{\"id\":\"1016\"}},\"id\":\"1015\",\"type\":\"LinearAxis\"},{\"attributes\":{},\"id\":\"1016\",\"type\":\"BasicTicker\"},{\"attributes\":{\"align\":null,\"below\":[{\"id\":\"1015\"}],\"center\":[{\"id\":\"1018\"},{\"id\":\"1022\"}],\"left\":[{\"id\":\"1019\"}],\"margin\":null,\"min_border_bottom\":10,\"min_border_left\":10,\"min_border_right\":10,\"min_border_top\":10,\"plot_height\":300,\"plot_width\":700,\"renderers\":[{\"id\":\"1042\"}],\"sizing_mode\":\"fixed\",\"title\":{\"id\":\"1007\"},\"toolbar\":{\"id\":\"1029\"},\"x_range\":{\"id\":\"1003\"},\"x_scale\":{\"id\":\"1011\"},\"y_range\":{\"id\":\"1004\"},\"y_scale\":{\"id\":\"1013\"}},\"id\":\"1006\",\"subtype\":\"Figure\",\"type\":\"Plot\"},{\"attributes\":{\"axis\":{\"id\":\"1015\"},\"grid_line_color\":null,\"ticker\":null},\"id\":\"1018\",\"type\":\"Grid\"},{\"attributes\":{},\"id\":\"1020\",\"type\":\"BasicTicker\"},{\"attributes\":{\"axis_label\":\"\",\"bounds\":\"auto\",\"formatter\":{\"id\":\"1047\"},\"major_label_orientation\":\"horizontal\",\"ticker\":{\"id\":\"1020\"}},\"id\":\"1019\",\"type\":\"LinearAxis\"},{\"attributes\":{\"bottom\":{\"value\":0},\"fill_color\":{\"value\":\"#1f77b3\"},\"left\":{\"field\":\"left\"},\"right\":{\"field\":\"right\"},\"top\":{\"field\":\"top\"}},\"id\":\"1039\",\"type\":\"Quad\"},{\"attributes\":{\"source\":{\"id\":\"1036\"}},\"id\":\"1043\",\"type\":\"CDSView\"},{\"attributes\":{\"bottom_units\":\"screen\",\"fill_alpha\":0.5,\"fill_color\":\"lightgrey\",\"left_units\":\"screen\",\"level\":\"overlay\",\"line_alpha\":1.0,\"line_color\":\"black\",\"line_dash\":[4,4],\"line_width\":2,\"right_units\":\"screen\",\"top_units\":\"screen\"},\"id\":\"1028\",\"type\":\"BoxAnnotation\"},{\"attributes\":{\"active_drag\":\"auto\",\"active_inspect\":\"auto\",\"active_multi\":null,\"active_scroll\":\"auto\",\"active_tap\":\"auto\",\"tools\":[{\"id\":\"1005\"},{\"id\":\"1023\"},{\"id\":\"1024\"},{\"id\":\"1025\"},{\"id\":\"1026\"},{\"id\":\"1027\"}]},\"id\":\"1029\",\"type\":\"Toolbar\"},{\"attributes\":{\"children\":[{\"id\":\"1002\"},{\"id\":\"1006\"},{\"id\":\"1056\"}],\"margin\":[0,0,0,0],\"name\":\"Row01533\",\"tags\":[\"embedded\"]},\"id\":\"1001\",\"type\":\"Row\"},{\"attributes\":{\"margin\":[5,5,5,5],\"name\":\"HSpacer01538\",\"sizing_mode\":\"stretch_width\"},\"id\":\"1056\",\"type\":\"Spacer\"}],\"root_ids\":[\"1001\"]},\"title\":\"Bokeh Application\",\"version\":\"2.1.0\"}};\n",
       "  var render_items = [{\"docid\":\"86be84fa-a33f-49ff-ab4b-5602b5af7abb\",\"root_ids\":[\"1001\"],\"roots\":{\"1001\":\"86c62172-f104-4973-a14c-0b7f420661ed\"}}];\n",
       "  root.Bokeh.embed.embed_items_notebook(docs_json, render_items);\n",
       "  }\n",
       "if (root.Bokeh !== undefined) {\n",
       "    embed_document(root);\n",
       "  } else {\n",
       "    var attempts = 0;\n",
       "    var timer = setInterval(function(root) {\n",
       "      if (root.Bokeh !== undefined) {\n",
       "        clearInterval(timer);\n",
       "        embed_document(root);\n",
       "      } else if (document.readyState == \"complete\") {\n",
       "        attempts++;\n",
       "        if (attempts > 100) {\n",
       "          clearInterval(timer);\n",
       "          console.log(\"Bokeh: ERROR: Unable to run BokehJS code because BokehJS library is missing\");\n",
       "        }\n",
       "      }\n",
       "    }, 10, root)\n",
       "  }\n",
       "})(window);</script>"
      ],
      "text/plain": [
       ":Histogram   [deliverydistance]   (deliverydistance_count)"
      ]
     },
     "execution_count": 17,
     "metadata": {
      "application/vnd.holoviews_exec.v0+json": {
       "id": "1001"
      }
     },
     "output_type": "execute_result"
    }
   ],
   "source": [
    "orders.deliverydistance.hvplot.hist()"
   ]
  },
  {
   "cell_type": "code",
   "execution_count": 20,
   "metadata": {},
   "outputs": [
    {
     "data": {},
     "metadata": {},
     "output_type": "display_data"
    },
    {
     "data": {
      "application/vnd.holoviews_exec.v0+json": "",
      "text/html": [
       "<div id='1292'>\n",
       "\n",
       "\n",
       "\n",
       "\n",
       "\n",
       "  <div class=\"bk-root\" id=\"e74a6a1e-18b8-4091-aa50-183b5e21aa68\" data-root-id=\"1292\"></div>\n",
       "</div>\n",
       "<script type=\"application/javascript\">(function(root) {\n",
       "  function embed_document(root) {\n",
       "  var docs_json = {\"5fa7bc93-1301-4c40-bf4e-2a9508a20a91\":{\"roots\":{\"references\":[{\"attributes\":{\"axis\":{\"id\":\"1306\"},\"grid_line_color\":null,\"ticker\":null},\"id\":\"1309\",\"type\":\"Grid\"},{\"attributes\":{},\"id\":\"1318\",\"type\":\"ResetTool\"},{\"attributes\":{\"active_drag\":\"auto\",\"active_inspect\":\"auto\",\"active_multi\":null,\"active_scroll\":\"auto\",\"active_tap\":\"auto\",\"tools\":[{\"id\":\"1296\"},{\"id\":\"1314\"},{\"id\":\"1315\"},{\"id\":\"1316\"},{\"id\":\"1317\"},{\"id\":\"1318\"}]},\"id\":\"1320\",\"type\":\"Toolbar\"},{\"attributes\":{},\"id\":\"1328\",\"type\":\"Selection\"},{\"attributes\":{\"end\":99139.7,\"reset_end\":99139.7,\"reset_start\":0.0,\"tags\":[[[\"grand_total_count\",\"Count\",null]]]},\"id\":\"1295\",\"type\":\"Range1d\"},{\"attributes\":{\"bottom\":{\"value\":0},\"fill_color\":{\"value\":\"#1f77b3\"},\"left\":{\"field\":\"left\"},\"right\":{\"field\":\"right\"},\"top\":{\"field\":\"top\"}},\"id\":\"1330\",\"type\":\"Quad\"},{\"attributes\":{\"callback\":null,\"renderers\":[{\"id\":\"1333\"}],\"tags\":[\"hv_created\"],\"tooltips\":[[\"grand_total\",\"@{grand_total}\"],[\"Count\",\"@{grand_total_count}\"]]},\"id\":\"1296\",\"type\":\"HoverTool\"},{\"attributes\":{\"end\":817.3914285714285,\"reset_end\":817.3914285714285,\"reset_start\":-33.59142857142857,\"start\":-33.59142857142857,\"tags\":[[[\"grand_total\",\"grand_total\",null]]]},\"id\":\"1294\",\"type\":\"Range1d\"},{\"attributes\":{},\"id\":\"1311\",\"type\":\"BasicTicker\"},{\"attributes\":{\"align\":null,\"below\":[{\"id\":\"1306\"}],\"center\":[{\"id\":\"1309\"},{\"id\":\"1313\"}],\"left\":[{\"id\":\"1310\"}],\"margin\":null,\"min_border_bottom\":10,\"min_border_left\":10,\"min_border_right\":10,\"min_border_top\":10,\"plot_height\":300,\"plot_width\":700,\"renderers\":[{\"id\":\"1333\"}],\"sizing_mode\":\"fixed\",\"title\":{\"id\":\"1298\"},\"toolbar\":{\"id\":\"1320\"},\"x_range\":{\"id\":\"1294\"},\"x_scale\":{\"id\":\"1302\"},\"y_range\":{\"id\":\"1295\"},\"y_scale\":{\"id\":\"1304\"}},\"id\":\"1297\",\"subtype\":\"Figure\",\"type\":\"Plot\"},{\"attributes\":{\"axis\":{\"id\":\"1310\"},\"dimension\":1,\"grid_line_color\":null,\"ticker\":null},\"id\":\"1313\",\"type\":\"Grid\"},{\"attributes\":{\"margin\":[5,5,5,5],\"name\":\"HSpacer02110\",\"sizing_mode\":\"stretch_width\"},\"id\":\"1293\",\"type\":\"Spacer\"},{\"attributes\":{\"text\":\"\",\"text_color\":{\"value\":\"black\"},\"text_font_size\":{\"value\":\"12pt\"}},\"id\":\"1298\",\"type\":\"Title\"},{\"attributes\":{},\"id\":\"1338\",\"type\":\"BasicTickFormatter\"},{\"attributes\":{\"axis_label\":\"\",\"bounds\":\"auto\",\"formatter\":{\"id\":\"1338\"},\"major_label_orientation\":\"horizontal\",\"ticker\":{\"id\":\"1311\"}},\"id\":\"1310\",\"type\":\"LinearAxis\"},{\"attributes\":{\"margin\":[5,5,5,5],\"name\":\"HSpacer02111\",\"sizing_mode\":\"stretch_width\"},\"id\":\"1347\",\"type\":\"Spacer\"},{\"attributes\":{\"axis_label\":\"grand_total\",\"bounds\":\"auto\",\"formatter\":{\"id\":\"1336\"},\"major_label_orientation\":\"horizontal\",\"ticker\":{\"id\":\"1307\"}},\"id\":\"1306\",\"type\":\"LinearAxis\"},{\"attributes\":{},\"id\":\"1315\",\"type\":\"PanTool\"},{\"attributes\":{\"bottom\":{\"value\":0},\"fill_alpha\":{\"value\":0.2},\"fill_color\":{\"value\":\"#1f77b3\"},\"left\":{\"field\":\"left\"},\"line_alpha\":{\"value\":0.2},\"right\":{\"field\":\"right\"},\"top\":{\"field\":\"top\"}},\"id\":\"1332\",\"type\":\"Quad\"},{\"attributes\":{},\"id\":\"1314\",\"type\":\"SaveTool\"},{\"attributes\":{\"bottom_units\":\"screen\",\"fill_alpha\":0.5,\"fill_color\":\"lightgrey\",\"left_units\":\"screen\",\"level\":\"overlay\",\"line_alpha\":1.0,\"line_color\":\"black\",\"line_dash\":[4,4],\"line_width\":2,\"right_units\":\"screen\",\"top_units\":\"screen\"},\"id\":\"1319\",\"type\":\"BoxAnnotation\"},{\"attributes\":{\"overlay\":{\"id\":\"1319\"}},\"id\":\"1317\",\"type\":\"BoxZoomTool\"},{\"attributes\":{\"children\":[{\"id\":\"1293\"},{\"id\":\"1297\"},{\"id\":\"1347\"}],\"margin\":[0,0,0,0],\"name\":\"Row02106\",\"tags\":[\"embedded\"]},\"id\":\"1292\",\"type\":\"Row\"},{\"attributes\":{\"bottom\":{\"value\":0},\"fill_alpha\":{\"value\":0.1},\"fill_color\":{\"value\":\"#1f77b3\"},\"left\":{\"field\":\"left\"},\"line_alpha\":{\"value\":0.1},\"right\":{\"field\":\"right\"},\"top\":{\"field\":\"top\"}},\"id\":\"1331\",\"type\":\"Quad\"},{\"attributes\":{},\"id\":\"1344\",\"type\":\"UnionRenderers\"},{\"attributes\":{\"data\":{\"grand_total\":{\"__ndarray__\":\"JjEIrBxaH0DcJAaBlYM3QLgehetRmENAASuHFtluS0Cmm8QgsKJRQMqhRbbzjVVA7qfGSzd5WUAUrkfhemRdQBxaZDvfp2BALt0kBoGdYkBBYOXQIpNkQFPjpZvEiGZAZmZmZmZ+aEB46SYxCHRqQIps5/upaWxAne+nxktfbkBYObTIdipwQOB6FK5HJXFAarx0kxggckD0/dR46RpzQHw/NV66FXRABoGVQ4sQdUCOwvUoXAt2QBgEVg4tBndAoUW28/0AeEAqhxbZzvt4QLTIdr6f9nlAPArXo3DxekDGSzeJQex7QE+Nl24S53xA2M73U+PhfUBiEFg5tNx+QOtRuB6F139AukkMAitpgEB+arx0k+aAQEOLbOf7Y4FACKwcWmThgUDMzMzMzF6CQJHtfD813IJAVg4tsp1Zg0AaL90kBteDQN5PjZduVIRApHA9CtfRhEBoke18P0+FQCyyne+nzIVA8dJNYhBKhkC28/3UeMeGQHoUrkfhRIdAPjVeuknCh0AEVg4tsj+IQA==\",\"dtype\":\"float64\",\"order\":\"little\",\"shape\":[50]},\"grand_total_count\":[90127,34094,7457,2235,781,311,141,69,45,15,12,8,1,4,0,0,0,1,0,0,0,0,0,0,0,0,0,0,0,0,0,0,0,1,0,0,0,0,0,0,0,0,0,0,0,0,0,0,0,1],\"left\":{\"__ndarray__\":\"AAAAAAAAAAAmMQisHFovQCYxCKwcWj9A3CQGgZWDR0AmMQisHFpPQLgehetRmFNA3CQGgZWDV0ABK4cW2W5bQCYxCKwcWl9ApZvEILCiYUC4HoXrUZhjQMqhRbbzjWVA3CQGgZWDZ0Dvp8ZLN3lpQAErhxbZbmtAFK5H4XpkbUAmMQisHFpvQBxaZDvfp3BApZvEILCicUAv3SQGgZ1yQLgehetRmHNAQWDl0CKTdEDKoUW28411QFPjpZvEiHZA3CQGgZWDd0BmZmZmZn54QO+nxks3eXlAeOkmMQh0ekABK4cW2W57QIps5/upaXxAFK5H4XpkfUCd76fGS19+QCYxCKwcWn9AWDm0yHYqgEAcWmQ736eAQOF6FK5HJYFApZvEILCigUBqvHSTGCCCQC/dJAaBnYJA8/3UeOkag0C4HoXrUZiDQHw/NV66FYRAQWDl0CKThEAGgZVDixCFQMqhRbbzjYVAj8L1KFwLhkBT46WbxIiGQBgEVg4tBodA3CQGgZWDh0ChRbbz/QCIQA==\",\"dtype\":\"float64\",\"order\":\"little\",\"shape\":[50]},\"right\":{\"__ndarray__\":\"JjEIrBxaL0AmMQisHFo/QNwkBoGVg0dAJjEIrBxaT0C4HoXrUZhTQNwkBoGVg1dAASuHFtluW0AmMQisHFpfQKWbxCCwomFAuB6F61GYY0DKoUW2841lQNwkBoGVg2dA76fGSzd5aUABK4cW2W5rQBSuR+F6ZG1AJjEIrBxab0AcWmQ736dwQKWbxCCwonFAL90kBoGdckC4HoXrUZhzQEFg5dAik3RAyqFFtvONdUBT46WbxIh2QNwkBoGVg3dAZmZmZmZ+eEDvp8ZLN3l5QHjpJjEIdHpAASuHFtlue0CKbOf7qWl8QBSuR+F6ZH1Ane+nxktffkAmMQisHFp/QFg5tMh2KoBAHFpkO9+ngEDhehSuRyWBQKWbxCCwooFAarx0kxgggkAv3SQGgZ2CQPP91HjpGoNAuB6F61GYg0B8PzVeuhWEQEFg5dAik4RABoGVQ4sQhUDKoUW2842FQI/C9ShcC4ZAU+Olm8SIhkAYBFYOLQaHQNwkBoGVg4dAoUW28/0AiEBmZmZmZn6IQA==\",\"dtype\":\"float64\",\"order\":\"little\",\"shape\":[50]},\"top\":[90127,34094,7457,2235,781,311,141,69,45,15,12,8,1,4,0,0,0,1,0,0,0,0,0,0,0,0,0,0,0,0,0,0,0,1,0,0,0,0,0,0,0,0,0,0,0,0,0,0,0,1]},\"selected\":{\"id\":\"1328\"},\"selection_policy\":{\"id\":\"1344\"}},\"id\":\"1327\",\"type\":\"ColumnDataSource\"},{\"attributes\":{},\"id\":\"1316\",\"type\":\"WheelZoomTool\"},{\"attributes\":{},\"id\":\"1336\",\"type\":\"BasicTickFormatter\"},{\"attributes\":{},\"id\":\"1307\",\"type\":\"BasicTicker\"},{\"attributes\":{\"data_source\":{\"id\":\"1327\"},\"glyph\":{\"id\":\"1330\"},\"hover_glyph\":null,\"muted_glyph\":{\"id\":\"1332\"},\"nonselection_glyph\":{\"id\":\"1331\"},\"selection_glyph\":null,\"view\":{\"id\":\"1334\"}},\"id\":\"1333\",\"type\":\"GlyphRenderer\"},{\"attributes\":{},\"id\":\"1304\",\"type\":\"LinearScale\"},{\"attributes\":{\"source\":{\"id\":\"1327\"}},\"id\":\"1334\",\"type\":\"CDSView\"},{\"attributes\":{},\"id\":\"1302\",\"type\":\"LinearScale\"}],\"root_ids\":[\"1292\"]},\"title\":\"Bokeh Application\",\"version\":\"2.1.0\"}};\n",
       "  var render_items = [{\"docid\":\"5fa7bc93-1301-4c40-bf4e-2a9508a20a91\",\"root_ids\":[\"1292\"],\"roots\":{\"1292\":\"e74a6a1e-18b8-4091-aa50-183b5e21aa68\"}}];\n",
       "  root.Bokeh.embed.embed_items_notebook(docs_json, render_items);\n",
       "  }\n",
       "if (root.Bokeh !== undefined) {\n",
       "    embed_document(root);\n",
       "  } else {\n",
       "    var attempts = 0;\n",
       "    var timer = setInterval(function(root) {\n",
       "      if (root.Bokeh !== undefined) {\n",
       "        clearInterval(timer);\n",
       "        embed_document(root);\n",
       "      } else if (document.readyState == \"complete\") {\n",
       "        attempts++;\n",
       "        if (attempts > 100) {\n",
       "          clearInterval(timer);\n",
       "          console.log(\"Bokeh: ERROR: Unable to run BokehJS code because BokehJS library is missing\");\n",
       "        }\n",
       "      }\n",
       "    }, 10, root)\n",
       "  }\n",
       "})(window);</script>"
      ],
      "text/plain": [
       ":Histogram   [grand_total]   (grand_total_count)"
      ]
     },
     "execution_count": 20,
     "metadata": {
      "application/vnd.holoviews_exec.v0+json": {
       "id": "1292"
      }
     },
     "output_type": "execute_result"
    }
   ],
   "source": [
    "orders.grand_total.hvplot.hist(bins=50)"
   ]
  },
  {
   "cell_type": "code",
   "execution_count": 60,
   "metadata": {},
   "outputs": [
    {
     "data": {
      "text/plain": [
       "676.4785614509656"
      ]
     },
     "execution_count": 60,
     "metadata": {},
     "output_type": "execute_result"
    }
   ],
   "source": [
    "orders.grand_total.mean()"
   ]
  },
  {
   "cell_type": "markdown",
   "metadata": {},
   "source": [
    "### Locations"
   ]
  },
  {
   "cell_type": "code",
   "execution_count": 32,
   "metadata": {},
   "outputs": [],
   "source": [
    "tr_locations['train'] = True\n",
    "te_locations['train'] = False\n",
    "\n",
    "locations = pd.concat([tr_locations, te_locations])"
   ]
  },
  {
   "cell_type": "code",
   "execution_count": 108,
   "metadata": {},
   "outputs": [
    {
     "data": {
      "text/html": [
       "<div>\n",
       "<style scoped>\n",
       "    .dataframe tbody tr th:only-of-type {\n",
       "        vertical-align: middle;\n",
       "    }\n",
       "\n",
       "    .dataframe tbody tr th {\n",
       "        vertical-align: top;\n",
       "    }\n",
       "\n",
       "    .dataframe thead th {\n",
       "        text-align: right;\n",
       "    }\n",
       "</style>\n",
       "<table border=\"1\" class=\"dataframe\">\n",
       "  <thead>\n",
       "    <tr style=\"text-align: right;\">\n",
       "      <th></th>\n",
       "      <th>customer_id</th>\n",
       "      <th>location_number</th>\n",
       "      <th>location_type</th>\n",
       "      <th>latitude</th>\n",
       "      <th>longitude</th>\n",
       "      <th>geometry</th>\n",
       "      <th>train</th>\n",
       "      <th>CID x LOC_NUM</th>\n",
       "    </tr>\n",
       "  </thead>\n",
       "  <tbody>\n",
       "    <tr>\n",
       "      <th>0</th>\n",
       "      <td>02SFNJH</td>\n",
       "      <td>0</td>\n",
       "      <td>NaN</td>\n",
       "      <td>1.682392</td>\n",
       "      <td>-78.789737</td>\n",
       "      <td>POINT (-78.78973718181859 1.682391538461576)</td>\n",
       "      <td>True</td>\n",
       "      <td>02SFNJH X 0</td>\n",
       "    </tr>\n",
       "    <tr>\n",
       "      <th>1</th>\n",
       "      <td>02SFNJH</td>\n",
       "      <td>1</td>\n",
       "      <td>NaN</td>\n",
       "      <td>1.679137</td>\n",
       "      <td>0.766823</td>\n",
       "      <td>POINT (0.7668233053886399 1.679136545096203)</td>\n",
       "      <td>True</td>\n",
       "      <td>02SFNJH X 1</td>\n",
       "    </tr>\n",
       "    <tr>\n",
       "      <th>2</th>\n",
       "      <td>02SFNJH</td>\n",
       "      <td>2</td>\n",
       "      <td>NaN</td>\n",
       "      <td>-0.498648</td>\n",
       "      <td>0.661241</td>\n",
       "      <td>POINT (0.6612414365454651 -0.4986483973653315)</td>\n",
       "      <td>True</td>\n",
       "      <td>02SFNJH X 2</td>\n",
       "    </tr>\n",
       "    <tr>\n",
       "      <th>3</th>\n",
       "      <td>RU43CXC</td>\n",
       "      <td>0</td>\n",
       "      <td>Home</td>\n",
       "      <td>0.100853</td>\n",
       "      <td>0.438165</td>\n",
       "      <td>POINT (0.4381654655391504 0.1008532520270913)</td>\n",
       "      <td>True</td>\n",
       "      <td>RU43CXC X 0</td>\n",
       "    </tr>\n",
       "    <tr>\n",
       "      <th>4</th>\n",
       "      <td>BDFBPRD</td>\n",
       "      <td>0</td>\n",
       "      <td>NaN</td>\n",
       "      <td>2.523125</td>\n",
       "      <td>0.733464</td>\n",
       "      <td>POINT (0.7334637242284848 2.523125243914389)</td>\n",
       "      <td>True</td>\n",
       "      <td>BDFBPRD X 0</td>\n",
       "    </tr>\n",
       "  </tbody>\n",
       "</table>\n",
       "</div>"
      ],
      "text/plain": [
       "  customer_id  location_number location_type  latitude  longitude  \\\n",
       "0     02SFNJH                0           NaN  1.682392 -78.789737   \n",
       "1     02SFNJH                1           NaN  1.679137   0.766823   \n",
       "2     02SFNJH                2           NaN -0.498648   0.661241   \n",
       "3     RU43CXC                0          Home  0.100853   0.438165   \n",
       "4     BDFBPRD                0           NaN  2.523125   0.733464   \n",
       "\n",
       "                                         geometry  train CID x LOC_NUM  \n",
       "0    POINT (-78.78973718181859 1.682391538461576)   True   02SFNJH X 0  \n",
       "1    POINT (0.7668233053886399 1.679136545096203)   True   02SFNJH X 1  \n",
       "2  POINT (0.6612414365454651 -0.4986483973653315)   True   02SFNJH X 2  \n",
       "3   POINT (0.4381654655391504 0.1008532520270913)   True   RU43CXC X 0  \n",
       "4    POINT (0.7334637242284848 2.523125243914389)   True   BDFBPRD X 0  "
      ]
     },
     "execution_count": 108,
     "metadata": {},
     "output_type": "execute_result"
    }
   ],
   "source": [
    "locations.head()"
   ]
  },
  {
   "cell_type": "code",
   "execution_count": 105,
   "metadata": {},
   "outputs": [
    {
     "name": "stdout",
     "output_type": "stream",
     "text": [
      "Locations for 35400 customers in train\n",
      "Locations for 10000 customers in test\n"
     ]
    }
   ],
   "source": [
    "print('Locations for {} customers in train'.format(tr_locations.customer_id.nunique()))\n",
    "print('Locations for {} customers in test'.format(te_locations.customer_id.nunique()))"
   ]
  },
  {
   "cell_type": "markdown",
   "metadata": {},
   "source": [
    "**Insight**: Location data covers the most customers. "
   ]
  },
  {
   "cell_type": "code",
   "execution_count": 30,
   "metadata": {},
   "outputs": [
    {
     "data": {},
     "metadata": {},
     "output_type": "display_data"
    },
    {
     "data": {
      "application/vnd.holoviews_exec.v0+json": "",
      "text/html": [
       "<div id='1899'>\n",
       "\n",
       "\n",
       "\n",
       "\n",
       "\n",
       "  <div class=\"bk-root\" id=\"2aeb4a57-5cee-4536-9644-2fa34431e2ab\" data-root-id=\"1899\"></div>\n",
       "</div>\n",
       "<script type=\"application/javascript\">(function(root) {\n",
       "  function embed_document(root) {\n",
       "  var docs_json = {\"a5abce9b-6adc-490f-82f4-754b2733fe89\":{\"roots\":{\"references\":[{\"attributes\":{\"fill_alpha\":0.2,\"fill_color\":\"#1f77b3\",\"line_alpha\":0.2,\"x\":{\"field\":\"x\"},\"y\":{\"field\":\"y\"}},\"id\":\"1939\",\"type\":\"Patch\"},{\"attributes\":{\"children\":[{\"id\":\"1900\"},{\"id\":\"1904\"},{\"id\":\"1954\"}],\"margin\":[0,0,0,0],\"name\":\"Row04993\",\"tags\":[\"embedded\"]},\"id\":\"1899\",\"type\":\"Row\"},{\"attributes\":{},\"id\":\"1909\",\"type\":\"LinearScale\"},{\"attributes\":{\"fill_alpha\":0.5,\"fill_color\":\"#1f77b3\",\"x\":{\"field\":\"x\"},\"y\":{\"field\":\"y\"}},\"id\":\"1937\",\"type\":\"Patch\"},{\"attributes\":{},\"id\":\"1925\",\"type\":\"ResetTool\"},{\"attributes\":{\"active_drag\":\"auto\",\"active_inspect\":\"auto\",\"active_multi\":null,\"active_scroll\":\"auto\",\"active_tap\":\"auto\",\"tools\":[{\"id\":\"1903\"},{\"id\":\"1921\"},{\"id\":\"1922\"},{\"id\":\"1923\"},{\"id\":\"1924\"},{\"id\":\"1925\"}]},\"id\":\"1927\",\"type\":\"Toolbar\"},{\"attributes\":{\"bottom_units\":\"screen\",\"fill_alpha\":0.5,\"fill_color\":\"lightgrey\",\"left_units\":\"screen\",\"level\":\"overlay\",\"line_alpha\":1.0,\"line_color\":\"black\",\"line_dash\":[4,4],\"line_width\":2,\"right_units\":\"screen\",\"top_units\":\"screen\"},\"id\":\"1926\",\"type\":\"BoxAnnotation\"},{\"attributes\":{},\"id\":\"1911\",\"type\":\"LinearScale\"},{\"attributes\":{},\"id\":\"1921\",\"type\":\"SaveTool\"},{\"attributes\":{\"margin\":[5,5,5,5],\"name\":\"HSpacer04997\",\"sizing_mode\":\"stretch_width\"},\"id\":\"1900\",\"type\":\"Spacer\"},{\"attributes\":{\"end\":461.2204359078909,\"reset_end\":461.2204359078909,\"reset_start\":-1045.7158814722843,\"start\":-1045.7158814722843,\"tags\":[[[\"latitude\",\"latitude\",null]]]},\"id\":\"1901\",\"type\":\"Range1d\"},{\"attributes\":{\"axis\":{\"id\":\"1913\"},\"grid_line_color\":null,\"ticker\":null},\"id\":\"1916\",\"type\":\"Grid\"},{\"attributes\":{\"source\":{\"id\":\"1934\"}},\"id\":\"1941\",\"type\":\"CDSView\"},{\"attributes\":{\"axis_label\":\"latitude\",\"bounds\":\"auto\",\"formatter\":{\"id\":\"1943\"},\"major_label_orientation\":\"horizontal\",\"ticker\":{\"id\":\"1914\"}},\"id\":\"1913\",\"type\":\"LinearAxis\"},{\"attributes\":{},\"id\":\"1943\",\"type\":\"BasicTickFormatter\"},{\"attributes\":{},\"id\":\"1914\",\"type\":\"BasicTicker\"},{\"attributes\":{\"fill_alpha\":0.5,\"fill_color\":\"#1f77b3\",\"line_alpha\":1,\"x\":{\"field\":\"x\"},\"y\":{\"field\":\"y\"}},\"id\":\"1938\",\"type\":\"Patch\"},{\"attributes\":{\"axis\":{\"id\":\"1917\"},\"dimension\":1,\"grid_line_color\":null,\"ticker\":null},\"id\":\"1920\",\"type\":\"Grid\"},{\"attributes\":{\"text\":\"\",\"text_color\":{\"value\":\"black\"},\"text_font_size\":{\"value\":\"12pt\"}},\"id\":\"1905\",\"type\":\"Title\"},{\"attributes\":{},\"id\":\"1923\",\"type\":\"WheelZoomTool\"},{\"attributes\":{},\"id\":\"1922\",\"type\":\"PanTool\"},{\"attributes\":{\"align\":null,\"below\":[{\"id\":\"1913\"}],\"center\":[{\"id\":\"1916\"},{\"id\":\"1920\"}],\"left\":[{\"id\":\"1917\"}],\"margin\":null,\"min_border_bottom\":10,\"min_border_left\":10,\"min_border_right\":10,\"min_border_top\":10,\"plot_height\":300,\"plot_width\":700,\"renderers\":[{\"id\":\"1940\"}],\"sizing_mode\":\"fixed\",\"title\":{\"id\":\"1905\"},\"toolbar\":{\"id\":\"1927\"},\"x_range\":{\"id\":\"1901\"},\"x_scale\":{\"id\":\"1909\"},\"y_range\":{\"id\":\"1902\"},\"y_scale\":{\"id\":\"1911\"}},\"id\":\"1904\",\"subtype\":\"Figure\",\"type\":\"Plot\"},{\"attributes\":{},\"id\":\"1935\",\"type\":\"Selection\"},{\"attributes\":{\"callback\":null,\"renderers\":[{\"id\":\"1940\"}],\"tags\":[\"hv_created\"],\"tooltips\":[[\"latitude\",\"@{latitude}\"],[\"Density\",\"@{latitude_density}\"]]},\"id\":\"1903\",\"type\":\"HoverTool\"},{\"attributes\":{\"axis_label\":\"Density\",\"bounds\":\"auto\",\"formatter\":{\"id\":\"1945\"},\"major_label_orientation\":\"horizontal\",\"ticker\":{\"id\":\"1918\"}},\"id\":\"1917\",\"type\":\"LinearAxis\"},{\"attributes\":{\"overlay\":{\"id\":\"1926\"}},\"id\":\"1924\",\"type\":\"BoxZoomTool\"},{\"attributes\":{\"data_source\":{\"id\":\"1934\"},\"glyph\":{\"id\":\"1937\"},\"hover_glyph\":null,\"muted_glyph\":{\"id\":\"1939\"},\"nonselection_glyph\":{\"id\":\"1938\"},\"selection_glyph\":null,\"view\":{\"id\":\"1941\"}},\"id\":\"1940\",\"type\":\"GlyphRenderer\"},{\"attributes\":{\"data\":{\"x\":{\"__ndarray__\":\"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\",\"dtype\":\"float64\",\"order\":\"little\",\"shape\":[200]},\"y\":{\"__ndarray__\":\"AAAAAAAAAAAAAAAAAAAAAAAAAAAAAAAAAAAAAAAAAAAAAAAAAAAAAAAAAAAAAAAAAAAAAAAAAAAAAAAAAAAAAAAAAAAAAAAAAAAAAAAAAAAAAAAAAAAAAAAAAAAAAAAAAAAAAAAAAAAAAAAAAAAAAAAAAAAAAAAAAAAAAAAAAAAAAAAAAAAAAAAAAAAAAAAAAAAAAAAAAAAAAAAAAAAAAAAAAAAAAAAAAAAAAAAAAAAAAAAAAAAAAAAAAAAAAAAAAAAAAAAAAAAAAAAAAAAAAAAAAAAAAAAAAAAAAAAAAAAAAAAAAAAAAAAAAAAAAAAAAAAAAAAAAAAAAAAAAAAAAAAAAAAAAAAAAAAAAAAAAAAAAAAAAAAAAAAAAAAAAAAAAAAAAAAAAAAAAAAAAAAAAAAAAAAAAAAAAAAAAAAAAAAAAAAAAAAAAAAAAAAAAAAAAAAAAAAAAAAAAAAAAAAAAAAAAAAAAAAAAAAAAAAAAAAAAAAAAAAAAAAAAAAAAAAAAAAAAAAAAAAAAAAAAAAAAAAAAAAAAAAAAAAAAAAAAAAAAAAAAAAAAAAAAAAAAAAAAAAAAAAAAAAAAAAAAAAAAAAAAAAAAAAAAAAAAAAAAAAAAAAAAAAAAAAAAAAAAAAAAAAAAAAAAAAAAAAAAAAAAAAAAAAAAAAAAAAAAAAAAAAAAAAAAAAAAAAAAAAAAAAAAAAAAAAAAAAAAAAAAAAAAAAAAAAAAAAAAAAAAAAAAAAAAAAAAAAAAAAAAAAAAAAAAAAAAAAAAAAAAAAAAAAAAAAAAAAAAAAAAAAAAAAAAAAAAAAAAAAAAAAAAAAAAAAAAAAAAAAAAAAAAAAAAAAAAAAAAAAAAAAAAAAAAAAAAAAAAAAAAAAAAAAAAAAAAAAAAAAAAAAAAAAAAAAAAAAAAAAAAAAAAAAAAAAAAAAAAAAAAAAAAAAAAAAAAAAAAAAAAAAAAAAAAAAAAAAAAAAAAAAAAAAAAAAAAAAAAAAAAAAAAAAAAAAAAAAAAAAAAAAAAAAAAAAAAAAAAAAAAAAAAAAAAAAAAAAAAAAAAAAAAABRFloNR7+LPolVx3xl9og+MC4PpJ3FPjviRFAIMP2pNBAgDuqAE84qzkZnzbDYpx0n/yuWRug5DUqBZn8H2Lgb76DUunyYQSktOlWtfROBM0ZNikIntXY6vfOpqCuwJD5Ag2hup9OJPjRPKtbqFqY7GEb4cFvjeTX/6rd3vmuwOVPUQ0zzuws+O7hcRLFdLD/6e+0vtk8KPRy5EHkhrfM87iCAZLKV3T6BKb5hJ1jBPds5fy2O+WQ/pOCqPY7M6T1qh4wWVjLCPq0xKXxxh8Q8ZJ7fUEy8fzexzOYroYSAOz1XW1uvDIA++aF9lIpqVj+/3zCSItSeP0o6d42Xyi4/4uxxizGynD7XhXganbdVPs/o+z46R2Y+KdDUkKuSUDutbKUbJG+cPih7LB7WEgc/JOVESKDbUzznISbgUHVLO8EQ6Km1KnA+6AWrvfkVSj6lm1UVUdbcOjPJ7qk+1yU09Q1bgpiqJioKvmrpwh3gHL5Mlhw4Z08MAAAAAAAAAAAAAAAAAAAAAAAAAAAAAAAAAAAAAAAAAAAAAAAAAAAAAAAAAAAAAAAAAAAAAAAAAAAAAAAAAAAAAAAAAAAAAAAAAAAAAAAAAAAAAAAAAAAAAAAAAAAAAAAAAAAAAAAAAACa0JYd/ekSDZaLgVK6poAd/UlBjTQWpCqNmcye55mANBDj7sHmzBI7235FBH0sXT40BczBGwRfPjHiCiN3lxY7mgwwKUmMhjR/xpbsJtauKoWgufMiUjIlOZ3hIR+QhDC+e/Ggs/6QOKxJFEntHFg9vehtoDlx8D4HYthTDSVcPmh+eEJOrvY6XXNXm7ggUDS9d9vIV4hgKsVFze2aeCcd/fYymQThpgwAAAAAAAAAAAAAAAAAAAAAAAAAAAAAAAAAAAAAAAAAAAAAAAAAAAAAAAAAAAAAAAAAAAAAAAAAAAAAAAAAAAAAAAAAAAAAAAAAAAAAAAAAAAAAAAAAAAAAAAAAAAAAAADkFnpivpsNDctFUQ/KQHsdVZksYbcvoSo3gcmbpLN9NFcf5KZ+lRE7DF8Iak+HXD6nYkIPCLZfPg==\",\"dtype\":\"float64\",\"order\":\"little\",\"shape\":[200]}},\"selected\":{\"id\":\"1935\"},\"selection_policy\":{\"id\":\"1951\"}},\"id\":\"1934\",\"type\":\"ColumnDataSource\"},{\"attributes\":{},\"id\":\"1945\",\"type\":\"BasicTickFormatter\"},{\"attributes\":{\"margin\":[5,5,5,5],\"name\":\"HSpacer04998\",\"sizing_mode\":\"stretch_width\"},\"id\":\"1954\",\"type\":\"Spacer\"},{\"attributes\":{\"end\":0.033116716566146676,\"reset_end\":0.033116716566146676,\"reset_start\":0.0,\"tags\":[[[\"latitude_density\",\"Density\",null]]]},\"id\":\"1902\",\"type\":\"Range1d\"},{\"attributes\":{},\"id\":\"1951\",\"type\":\"UnionRenderers\"},{\"attributes\":{},\"id\":\"1918\",\"type\":\"BasicTicker\"}],\"root_ids\":[\"1899\"]},\"title\":\"Bokeh Application\",\"version\":\"2.1.0\"}};\n",
       "  var render_items = [{\"docid\":\"a5abce9b-6adc-490f-82f4-754b2733fe89\",\"root_ids\":[\"1899\"],\"roots\":{\"1899\":\"2aeb4a57-5cee-4536-9644-2fa34431e2ab\"}}];\n",
       "  root.Bokeh.embed.embed_items_notebook(docs_json, render_items);\n",
       "  }\n",
       "if (root.Bokeh !== undefined) {\n",
       "    embed_document(root);\n",
       "  } else {\n",
       "    var attempts = 0;\n",
       "    var timer = setInterval(function(root) {\n",
       "      if (root.Bokeh !== undefined) {\n",
       "        clearInterval(timer);\n",
       "        embed_document(root);\n",
       "      } else if (document.readyState == \"complete\") {\n",
       "        attempts++;\n",
       "        if (attempts > 100) {\n",
       "          clearInterval(timer);\n",
       "          console.log(\"Bokeh: ERROR: Unable to run BokehJS code because BokehJS library is missing\");\n",
       "        }\n",
       "      }\n",
       "    }, 10, root)\n",
       "  }\n",
       "})(window);</script>"
      ],
      "text/plain": [
       ":Distribution   [latitude]   (Density)"
      ]
     },
     "execution_count": 30,
     "metadata": {
      "application/vnd.holoviews_exec.v0+json": {
       "id": "1899"
      }
     },
     "output_type": "execute_result"
    }
   ],
   "source": [
    "tr_locations.hvplot.kde('latitude')"
   ]
  },
  {
   "cell_type": "code",
   "execution_count": 79,
   "metadata": {},
   "outputs": [
    {
     "data": {
      "text/plain": [
       "<seaborn.axisgrid.JointGrid at 0x7f849c6673d0>"
      ]
     },
     "execution_count": 79,
     "metadata": {},
     "output_type": "execute_result"
    },
    {
     "data": {
      "image/png": "[encoded data removed]",
      "text/plain": [
       "<Figure size 432x432 with 3 Axes>"
      ]
     },
     "metadata": {
      "needs_background": "light"
     },
     "output_type": "display_data"
    }
   ],
   "source": [
    "sns.jointplot(data=locations, x='latitude', y='longitude', alpha=.1)"
   ]
  },
  {
   "cell_type": "markdown",
   "metadata": {},
   "source": [
    "There are two focal points of locations - around 0 lat & long and around (0, -75) lat,long. The size of that jump doesn't sound plausible though - a jump of 75 longitude is huge!!"
   ]
  },
  {
   "cell_type": "code",
   "execution_count": 90,
   "metadata": {},
   "outputs": [
    {
     "data": {
      "text/plain": [
       "<matplotlib.axes._subplots.AxesSubplot at 0x7f849bcf7f90>"
      ]
     },
     "execution_count": 90,
     "metadata": {},
     "output_type": "execute_result"
    },
    {
     "data": {
      "image/png": "[encoded data removed]",
      "text/plain": [
       "<Figure size 432x288 with 1 Axes>"
      ]
     },
     "metadata": {
      "needs_background": "light"
     },
     "output_type": "display_data"
    }
   ],
   "source": [
    "sns.scatterplot(data=locations.query('-2 < longitude < 2'), x='latitude', y='longitude', alpha=0.2, hue='train')"
   ]
  },
  {
   "cell_type": "markdown",
   "metadata": {},
   "source": [
    "This looks like legit location data - if you look at Google maps it looks like the Northern coastlne of Oman, with Muscat at the horn. "
   ]
  },
  {
   "cell_type": "code",
   "execution_count": 93,
   "metadata": {},
   "outputs": [
    {
     "data": {
      "text/plain": [
       "<matplotlib.axes._subplots.AxesSubplot at 0x7f849a6f7110>"
      ]
     },
     "execution_count": 93,
     "metadata": {},
     "output_type": "execute_result"
    },
    {
     "data": {
      "image/png": "[encoded data removed]",
      "text/plain": [
       "<Figure size 432x288 with 1 Axes>"
      ]
     },
     "metadata": {
      "needs_background": "light"
     },
     "output_type": "display_data"
    }
   ],
   "source": [
    "sns.scatterplot(data=locations.query('-2 < longitude < -1 and (latitude > 5)'), x='latitude', y='longitude', alpha=0.2, hue='train')"
   ]
  },
  {
   "cell_type": "code",
   "execution_count": 89,
   "metadata": {},
   "outputs": [
    {
     "data": {
      "text/plain": [
       "<matplotlib.axes._subplots.AxesSubplot at 0x7f849b701a50>"
      ]
     },
     "execution_count": 89,
     "metadata": {},
     "output_type": "execute_result"
    },
    {
     "data": {
      "image/png": "[encoded data removed]",
      "text/plain": [
       "<Figure size 432x288 with 1 Axes>"
      ]
     },
     "metadata": {
      "needs_background": "light"
     },
     "output_type": "display_data"
    }
   ],
   "source": [
    "sns.scatterplot(data=locations.query('-10 < latitude < 10 and longitude < -10'), x='latitude', y='longitude', alpha=0.2, hue='train')"
   ]
  },
  {
   "cell_type": "markdown",
   "metadata": {},
   "source": [
    "These coordinates are fucked"
   ]
  },
  {
   "cell_type": "markdown",
   "metadata": {},
   "source": [
    "It looks like they added a bunch of noise to this dataset - the only locations that would make sense are those around -1, 1 longitude, which is where 99% of the vendors lie. "
   ]
  },
  {
   "cell_type": "code",
   "execution_count": 85,
   "metadata": {},
   "outputs": [
    {
     "name": "stdout",
     "output_type": "stream",
     "text": [
      "64.40 % of locations are within longitude (-1, 1)\n"
     ]
    }
   ],
   "source": [
    "print('{:.2f} % of locations are within longitude (-2, 2)'.format(100 *locations.query('-2 < longitude < 2').shape[0] / locations.shape[0]))"
   ]
  },
  {
   "cell_type": "code",
   "execution_count": 104,
   "metadata": {},
   "outputs": [
    {
     "data": {
      "text/plain": [
       "22384"
      ]
     },
     "execution_count": 104,
     "metadata": {},
     "output_type": "execute_result"
    }
   ],
   "source": [
    "locations.query('longitude > 2 or longitude < -1').customer_id.nunique()"
   ]
  },
  {
   "cell_type": "code",
   "execution_count": 87,
   "metadata": {},
   "outputs": [
    {
     "data": {
      "text/plain": [
       "<matplotlib.axes._subplots.AxesSubplot at 0x7f849b735190>"
      ]
     },
     "execution_count": 87,
     "metadata": {},
     "output_type": "execute_result"
    },
    {
     "data": {
      "image/png": "[encoded data removed]",
      "text/plain": [
       "<Figure size 432x288 with 1 Axes>"
      ]
     },
     "metadata": {
      "needs_background": "light"
     },
     "output_type": "display_data"
    }
   ],
   "source": [
    "locations.longitude.plot.kde()"
   ]
  },
  {
   "cell_type": "code",
   "execution_count": 88,
   "metadata": {},
   "outputs": [
    {
     "data": {
      "text/plain": [
       "<matplotlib.axes._subplots.AxesSubplot at 0x7f849b33cd10>"
      ]
     },
     "execution_count": 88,
     "metadata": {},
     "output_type": "execute_result"
    },
    {
     "data": {
      "image/png": "[encoded data removed]",
      "text/plain": [
       "<Figure size 432x288 with 1 Axes>"
      ]
     },
     "metadata": {
      "needs_background": "light"
     },
     "output_type": "display_data"
    }
   ],
   "source": [
    "locations.latitude.plot.kde()"
   ]
  },
  {
   "cell_type": "markdown",
   "metadata": {},
   "source": [
    "### Vendors"
   ]
  },
  {
   "cell_type": "code",
   "execution_count": 42,
   "metadata": {},
   "outputs": [
    {
     "data": {
      "text/plain": [
       "(100, 59)"
      ]
     },
     "execution_count": 42,
     "metadata": {},
     "output_type": "execute_result"
    }
   ],
   "source": [
    "vendors.shape"
   ]
  },
  {
   "cell_type": "code",
   "execution_count": 43,
   "metadata": {},
   "outputs": [
    {
     "data": {
      "text/html": [
       "<div>\n",
       "<style scoped>\n",
       "    .dataframe tbody tr th:only-of-type {\n",
       "        vertical-align: middle;\n",
       "    }\n",
       "\n",
       "    .dataframe tbody tr th {\n",
       "        vertical-align: top;\n",
       "    }\n",
       "\n",
       "    .dataframe thead th {\n",
       "        text-align: right;\n",
       "    }\n",
       "</style>\n",
       "<table border=\"1\" class=\"dataframe\">\n",
       "  <thead>\n",
       "    <tr style=\"text-align: right;\">\n",
       "      <th></th>\n",
       "      <th>id</th>\n",
       "      <th>authentication_id</th>\n",
       "      <th>latitude</th>\n",
       "      <th>longitude</th>\n",
       "      <th>vendor_category_en</th>\n",
       "      <th>vendor_category_id</th>\n",
       "      <th>delivery_charge</th>\n",
       "      <th>serving_distance</th>\n",
       "      <th>is_open</th>\n",
       "      <th>OpeningTime</th>\n",
       "      <th>OpeningTime2</th>\n",
       "      <th>prepration_time</th>\n",
       "      <th>commission</th>\n",
       "      <th>is_akeed_delivering</th>\n",
       "      <th>discount_percentage</th>\n",
       "      <th>status</th>\n",
       "      <th>verified</th>\n",
       "      <th>rank</th>\n",
       "      <th>language</th>\n",
       "      <th>vendor_rating</th>\n",
       "      <th>sunday_from_time1</th>\n",
       "      <th>sunday_to_time1</th>\n",
       "      <th>sunday_from_time2</th>\n",
       "      <th>sunday_to_time2</th>\n",
       "      <th>monday_from_time1</th>\n",
       "      <th>monday_to_time1</th>\n",
       "      <th>monday_from_time2</th>\n",
       "      <th>monday_to_time2</th>\n",
       "      <th>tuesday_from_time1</th>\n",
       "      <th>tuesday_to_time1</th>\n",
       "      <th>tuesday_from_time2</th>\n",
       "      <th>tuesday_to_time2</th>\n",
       "      <th>wednesday_from_time1</th>\n",
       "      <th>wednesday_to_time1</th>\n",
       "      <th>wednesday_from_time2</th>\n",
       "      <th>wednesday_to_time2</th>\n",
       "      <th>thursday_from_time1</th>\n",
       "      <th>thursday_to_time1</th>\n",
       "      <th>thursday_from_time2</th>\n",
       "      <th>thursday_to_time2</th>\n",
       "      <th>friday_from_time1</th>\n",
       "      <th>friday_to_time1</th>\n",
       "      <th>friday_from_time2</th>\n",
       "      <th>friday_to_time2</th>\n",
       "      <th>saturday_from_time1</th>\n",
       "      <th>saturday_to_time1</th>\n",
       "      <th>saturday_from_time2</th>\n",
       "      <th>saturday_to_time2</th>\n",
       "      <th>primary_tags</th>\n",
       "      <th>open_close_flags</th>\n",
       "      <th>vendor_tag</th>\n",
       "      <th>vendor_tag_name</th>\n",
       "      <th>one_click_vendor</th>\n",
       "      <th>country_id</th>\n",
       "      <th>city_id</th>\n",
       "      <th>created_at</th>\n",
       "      <th>updated_at</th>\n",
       "      <th>device_type</th>\n",
       "      <th>display_orders</th>\n",
       "    </tr>\n",
       "  </thead>\n",
       "  <tbody>\n",
       "    <tr>\n",
       "      <th>0</th>\n",
       "      <td>4</td>\n",
       "      <td>118597.0</td>\n",
       "      <td>-0.588596</td>\n",
       "      <td>0.754434</td>\n",
       "      <td>Restaurants</td>\n",
       "      <td>2.0</td>\n",
       "      <td>0.0</td>\n",
       "      <td>6.0</td>\n",
       "      <td>1.0</td>\n",
       "      <td>11:00AM-11:30PM</td>\n",
       "      <td>-</td>\n",
       "      <td>15</td>\n",
       "      <td>0.0</td>\n",
       "      <td>Yes</td>\n",
       "      <td>0.0</td>\n",
       "      <td>1.0</td>\n",
       "      <td>1</td>\n",
       "      <td>11</td>\n",
       "      <td>EN</td>\n",
       "      <td>4.4</td>\n",
       "      <td>00:00:00</td>\n",
       "      <td>00:30:00</td>\n",
       "      <td>08:00:00</td>\n",
       "      <td>23:59:00</td>\n",
       "      <td>00:00:00</td>\n",
       "      <td>00:30:00</td>\n",
       "      <td>08:00:00</td>\n",
       "      <td>23:59:00</td>\n",
       "      <td>00:00:00</td>\n",
       "      <td>00:30:00</td>\n",
       "      <td>08:00:00</td>\n",
       "      <td>23:59:00</td>\n",
       "      <td>00:00:00</td>\n",
       "      <td>00:30:00</td>\n",
       "      <td>08:00:00</td>\n",
       "      <td>23:59:00</td>\n",
       "      <td>00:00:00</td>\n",
       "      <td>00:30:00</td>\n",
       "      <td>08:00:00</td>\n",
       "      <td>23:59:00</td>\n",
       "      <td>00:00:00</td>\n",
       "      <td>00:30:00</td>\n",
       "      <td>10:00:00</td>\n",
       "      <td>23:59:00</td>\n",
       "      <td>00:00:00</td>\n",
       "      <td>00:30:00</td>\n",
       "      <td>10:00:00</td>\n",
       "      <td>23:59:00</td>\n",
       "      <td>{\"primary_tags\":\"4\"}</td>\n",
       "      <td>1.0</td>\n",
       "      <td>2,4,5,8,91,22,12,24,16,23</td>\n",
       "      <td>Arabic,Breakfast,Burgers,Desserts,Free Deliver...</td>\n",
       "      <td>Y</td>\n",
       "      <td>1.0</td>\n",
       "      <td>1.0</td>\n",
       "      <td>2018-01-30 14:42:04</td>\n",
       "      <td>2020-04-07 15:12:43</td>\n",
       "      <td>3</td>\n",
       "      <td>1</td>\n",
       "    </tr>\n",
       "    <tr>\n",
       "      <th>1</th>\n",
       "      <td>13</td>\n",
       "      <td>118608.0</td>\n",
       "      <td>-0.471654</td>\n",
       "      <td>0.744470</td>\n",
       "      <td>Restaurants</td>\n",
       "      <td>2.0</td>\n",
       "      <td>0.7</td>\n",
       "      <td>5.0</td>\n",
       "      <td>1.0</td>\n",
       "      <td>08:30AM-10:30PM</td>\n",
       "      <td>-</td>\n",
       "      <td>14</td>\n",
       "      <td>0.0</td>\n",
       "      <td>Yes</td>\n",
       "      <td>0.0</td>\n",
       "      <td>1.0</td>\n",
       "      <td>1</td>\n",
       "      <td>11</td>\n",
       "      <td>EN</td>\n",
       "      <td>4.7</td>\n",
       "      <td>00:00:00</td>\n",
       "      <td>01:30:00</td>\n",
       "      <td>08:00:00</td>\n",
       "      <td>23:59:00</td>\n",
       "      <td>00:00:00</td>\n",
       "      <td>01:30:00</td>\n",
       "      <td>08:00:00</td>\n",
       "      <td>23:59:00</td>\n",
       "      <td>00:00:00</td>\n",
       "      <td>01:30:00</td>\n",
       "      <td>08:00:00</td>\n",
       "      <td>23:59:00</td>\n",
       "      <td>00:00:00</td>\n",
       "      <td>01:30:00</td>\n",
       "      <td>08:00:00</td>\n",
       "      <td>19:30:00</td>\n",
       "      <td>00:00:00</td>\n",
       "      <td>01:30:00</td>\n",
       "      <td>08:00:00</td>\n",
       "      <td>19:30:00</td>\n",
       "      <td>00:00:00</td>\n",
       "      <td>01:30:00</td>\n",
       "      <td>08:00:00</td>\n",
       "      <td>23:59:00</td>\n",
       "      <td>00:00:00</td>\n",
       "      <td>01:30:00</td>\n",
       "      <td>08:00:00</td>\n",
       "      <td>23:59:00</td>\n",
       "      <td>{\"primary_tags\":\"7\"}</td>\n",
       "      <td>1.0</td>\n",
       "      <td>4,41,51,34,27,15,24,16,28</td>\n",
       "      <td>Breakfast,Cakes,Crepes,Italian,Pasta,Pizzas,Sa...</td>\n",
       "      <td>Y</td>\n",
       "      <td>1.0</td>\n",
       "      <td>1.0</td>\n",
       "      <td>2018-05-03 12:32:06</td>\n",
       "      <td>2020-04-05 20:46:03</td>\n",
       "      <td>3</td>\n",
       "      <td>1</td>\n",
       "    </tr>\n",
       "    <tr>\n",
       "      <th>2</th>\n",
       "      <td>20</td>\n",
       "      <td>118616.0</td>\n",
       "      <td>-0.407527</td>\n",
       "      <td>0.643681</td>\n",
       "      <td>Restaurants</td>\n",
       "      <td>2.0</td>\n",
       "      <td>0.0</td>\n",
       "      <td>8.0</td>\n",
       "      <td>1.0</td>\n",
       "      <td>08:00AM-10:45PM</td>\n",
       "      <td>-</td>\n",
       "      <td>19</td>\n",
       "      <td>0.0</td>\n",
       "      <td>Yes</td>\n",
       "      <td>0.0</td>\n",
       "      <td>1.0</td>\n",
       "      <td>1</td>\n",
       "      <td>1</td>\n",
       "      <td>EN</td>\n",
       "      <td>4.5</td>\n",
       "      <td>08:00:00</td>\n",
       "      <td>22:45:00</td>\n",
       "      <td>NaN</td>\n",
       "      <td>NaN</td>\n",
       "      <td>08:00:00</td>\n",
       "      <td>22:45:00</td>\n",
       "      <td>NaN</td>\n",
       "      <td>NaN</td>\n",
       "      <td>08:00:00</td>\n",
       "      <td>22:45:00</td>\n",
       "      <td>NaN</td>\n",
       "      <td>NaN</td>\n",
       "      <td>08:00:00</td>\n",
       "      <td>22:45:00</td>\n",
       "      <td>NaN</td>\n",
       "      <td>NaN</td>\n",
       "      <td>08:00:00</td>\n",
       "      <td>22:45:00</td>\n",
       "      <td>NaN</td>\n",
       "      <td>NaN</td>\n",
       "      <td>08:00:00</td>\n",
       "      <td>22:45:00</td>\n",
       "      <td>NaN</td>\n",
       "      <td>NaN</td>\n",
       "      <td>08:00:00</td>\n",
       "      <td>22:45:00</td>\n",
       "      <td>NaN</td>\n",
       "      <td>NaN</td>\n",
       "      <td>{\"primary_tags\":\"71\"}</td>\n",
       "      <td>1.0</td>\n",
       "      <td>4,8,91,10</td>\n",
       "      <td>Breakfast,Desserts,Free Delivery,Indian</td>\n",
       "      <td>Y</td>\n",
       "      <td>1.0</td>\n",
       "      <td>1.0</td>\n",
       "      <td>2018-05-04 22:28:22</td>\n",
       "      <td>2020-04-07 16:35:55</td>\n",
       "      <td>3</td>\n",
       "      <td>1</td>\n",
       "    </tr>\n",
       "    <tr>\n",
       "      <th>3</th>\n",
       "      <td>23</td>\n",
       "      <td>118619.0</td>\n",
       "      <td>-0.585385</td>\n",
       "      <td>0.753811</td>\n",
       "      <td>Restaurants</td>\n",
       "      <td>2.0</td>\n",
       "      <td>0.0</td>\n",
       "      <td>5.0</td>\n",
       "      <td>1.0</td>\n",
       "      <td>10:59AM-10:30PM</td>\n",
       "      <td>-</td>\n",
       "      <td>16</td>\n",
       "      <td>0.0</td>\n",
       "      <td>Yes</td>\n",
       "      <td>0.0</td>\n",
       "      <td>1.0</td>\n",
       "      <td>1</td>\n",
       "      <td>11</td>\n",
       "      <td>EN</td>\n",
       "      <td>4.5</td>\n",
       "      <td>09:00:00</td>\n",
       "      <td>23:30:00</td>\n",
       "      <td>NaN</td>\n",
       "      <td>NaN</td>\n",
       "      <td>09:00:00</td>\n",
       "      <td>23:30:00</td>\n",
       "      <td>NaN</td>\n",
       "      <td>NaN</td>\n",
       "      <td>09:00:00</td>\n",
       "      <td>23:30:00</td>\n",
       "      <td>NaN</td>\n",
       "      <td>NaN</td>\n",
       "      <td>09:00:00</td>\n",
       "      <td>23:30:00</td>\n",
       "      <td>NaN</td>\n",
       "      <td>NaN</td>\n",
       "      <td>09:00:00</td>\n",
       "      <td>23:45:00</td>\n",
       "      <td>NaN</td>\n",
       "      <td>NaN</td>\n",
       "      <td>09:00:00</td>\n",
       "      <td>23:45:00</td>\n",
       "      <td>NaN</td>\n",
       "      <td>NaN</td>\n",
       "      <td>09:00:00</td>\n",
       "      <td>23:45:00</td>\n",
       "      <td>NaN</td>\n",
       "      <td>NaN</td>\n",
       "      <td>{\"primary_tags\":\"46\"}</td>\n",
       "      <td>1.0</td>\n",
       "      <td>5,8,30,24</td>\n",
       "      <td>Burgers,Desserts,Fries,Salads</td>\n",
       "      <td>Y</td>\n",
       "      <td>1.0</td>\n",
       "      <td>1.0</td>\n",
       "      <td>2018-05-06 19:20:48</td>\n",
       "      <td>2020-04-02 00:56:17</td>\n",
       "      <td>3</td>\n",
       "      <td>1</td>\n",
       "    </tr>\n",
       "    <tr>\n",
       "      <th>4</th>\n",
       "      <td>28</td>\n",
       "      <td>118624.0</td>\n",
       "      <td>0.480602</td>\n",
       "      <td>0.552850</td>\n",
       "      <td>Restaurants</td>\n",
       "      <td>2.0</td>\n",
       "      <td>0.7</td>\n",
       "      <td>15.0</td>\n",
       "      <td>1.0</td>\n",
       "      <td>11:00AM-11:45PM</td>\n",
       "      <td>-</td>\n",
       "      <td>10</td>\n",
       "      <td>0.0</td>\n",
       "      <td>Yes</td>\n",
       "      <td>0.0</td>\n",
       "      <td>1.0</td>\n",
       "      <td>1</td>\n",
       "      <td>11</td>\n",
       "      <td>EN</td>\n",
       "      <td>4.4</td>\n",
       "      <td>00:01:00</td>\n",
       "      <td>00:30:00</td>\n",
       "      <td>11:00:00</td>\n",
       "      <td>23:59:00</td>\n",
       "      <td>00:01:00</td>\n",
       "      <td>00:30:00</td>\n",
       "      <td>11:00:00</td>\n",
       "      <td>23:59:00</td>\n",
       "      <td>00:01:00</td>\n",
       "      <td>00:30:00</td>\n",
       "      <td>11:00:00</td>\n",
       "      <td>23:59:00</td>\n",
       "      <td>00:01:00</td>\n",
       "      <td>00:30:00</td>\n",
       "      <td>11:00:00</td>\n",
       "      <td>23:59:00</td>\n",
       "      <td>00:01:00</td>\n",
       "      <td>00:30:00</td>\n",
       "      <td>11:00:00</td>\n",
       "      <td>23:59:00</td>\n",
       "      <td>00:01:00</td>\n",
       "      <td>01:30:00</td>\n",
       "      <td>17:45:00</td>\n",
       "      <td>23:59:00</td>\n",
       "      <td>00:01:00</td>\n",
       "      <td>01:30:00</td>\n",
       "      <td>17:45:00</td>\n",
       "      <td>23:59:00</td>\n",
       "      <td>{\"primary_tags\":\"32\"}</td>\n",
       "      <td>1.0</td>\n",
       "      <td>5</td>\n",
       "      <td>Burgers</td>\n",
       "      <td>Y</td>\n",
       "      <td>1.0</td>\n",
       "      <td>1.0</td>\n",
       "      <td>2018-05-17 22:12:38</td>\n",
       "      <td>2020-04-05 15:57:41</td>\n",
       "      <td>3</td>\n",
       "      <td>1</td>\n",
       "    </tr>\n",
       "  </tbody>\n",
       "</table>\n",
       "</div>"
      ],
      "text/plain": [
       "   id  authentication_id  latitude  longitude vendor_category_en  \\\n",
       "0   4           118597.0 -0.588596   0.754434        Restaurants   \n",
       "1  13           118608.0 -0.471654   0.744470        Restaurants   \n",
       "2  20           118616.0 -0.407527   0.643681        Restaurants   \n",
       "3  23           118619.0 -0.585385   0.753811        Restaurants   \n",
       "4  28           118624.0  0.480602   0.552850        Restaurants   \n",
       "\n",
       "   vendor_category_id  delivery_charge  serving_distance  is_open  \\\n",
       "0                 2.0              0.0               6.0      1.0   \n",
       "1                 2.0              0.7               5.0      1.0   \n",
       "2                 2.0              0.0               8.0      1.0   \n",
       "3                 2.0              0.0               5.0      1.0   \n",
       "4                 2.0              0.7              15.0      1.0   \n",
       "\n",
       "       OpeningTime OpeningTime2  prepration_time  commission  \\\n",
       "0  11:00AM-11:30PM            -               15         0.0   \n",
       "1  08:30AM-10:30PM            -               14         0.0   \n",
       "2  08:00AM-10:45PM            -               19         0.0   \n",
       "3  10:59AM-10:30PM            -               16         0.0   \n",
       "4  11:00AM-11:45PM            -               10         0.0   \n",
       "\n",
       "  is_akeed_delivering  discount_percentage  status  verified  rank language  \\\n",
       "0                 Yes                  0.0     1.0         1    11       EN   \n",
       "1                 Yes                  0.0     1.0         1    11       EN   \n",
       "2                 Yes                  0.0     1.0         1     1       EN   \n",
       "3                 Yes                  0.0     1.0         1    11       EN   \n",
       "4                 Yes                  0.0     1.0         1    11       EN   \n",
       "\n",
       "   vendor_rating sunday_from_time1 sunday_to_time1 sunday_from_time2  \\\n",
       "0            4.4          00:00:00        00:30:00          08:00:00   \n",
       "1            4.7          00:00:00        01:30:00          08:00:00   \n",
       "2            4.5          08:00:00        22:45:00               NaN   \n",
       "3            4.5          09:00:00        23:30:00               NaN   \n",
       "4            4.4          00:01:00        00:30:00          11:00:00   \n",
       "\n",
       "  sunday_to_time2 monday_from_time1 monday_to_time1 monday_from_time2  \\\n",
       "0        23:59:00          00:00:00        00:30:00          08:00:00   \n",
       "1        23:59:00          00:00:00        01:30:00          08:00:00   \n",
       "2             NaN          08:00:00        22:45:00               NaN   \n",
       "3             NaN          09:00:00        23:30:00               NaN   \n",
       "4        23:59:00          00:01:00        00:30:00          11:00:00   \n",
       "\n",
       "  monday_to_time2 tuesday_from_time1 tuesday_to_time1 tuesday_from_time2  \\\n",
       "0        23:59:00           00:00:00         00:30:00           08:00:00   \n",
       "1        23:59:00           00:00:00         01:30:00           08:00:00   \n",
       "2             NaN           08:00:00         22:45:00                NaN   \n",
       "3             NaN           09:00:00         23:30:00                NaN   \n",
       "4        23:59:00           00:01:00         00:30:00           11:00:00   \n",
       "\n",
       "  tuesday_to_time2 wednesday_from_time1 wednesday_to_time1  \\\n",
       "0         23:59:00             00:00:00           00:30:00   \n",
       "1         23:59:00             00:00:00           01:30:00   \n",
       "2              NaN             08:00:00           22:45:00   \n",
       "3              NaN             09:00:00           23:30:00   \n",
       "4         23:59:00             00:01:00           00:30:00   \n",
       "\n",
       "  wednesday_from_time2 wednesday_to_time2 thursday_from_time1  \\\n",
       "0             08:00:00           23:59:00            00:00:00   \n",
       "1             08:00:00           19:30:00            00:00:00   \n",
       "2                  NaN                NaN            08:00:00   \n",
       "3                  NaN                NaN            09:00:00   \n",
       "4             11:00:00           23:59:00            00:01:00   \n",
       "\n",
       "  thursday_to_time1 thursday_from_time2 thursday_to_time2 friday_from_time1  \\\n",
       "0          00:30:00            08:00:00          23:59:00          00:00:00   \n",
       "1          01:30:00            08:00:00          19:30:00          00:00:00   \n",
       "2          22:45:00                 NaN               NaN          08:00:00   \n",
       "3          23:45:00                 NaN               NaN          09:00:00   \n",
       "4          00:30:00            11:00:00          23:59:00          00:01:00   \n",
       "\n",
       "  friday_to_time1 friday_from_time2 friday_to_time2 saturday_from_time1  \\\n",
       "0        00:30:00          10:00:00        23:59:00            00:00:00   \n",
       "1        01:30:00          08:00:00        23:59:00            00:00:00   \n",
       "2        22:45:00               NaN             NaN            08:00:00   \n",
       "3        23:45:00               NaN             NaN            09:00:00   \n",
       "4        01:30:00          17:45:00        23:59:00            00:01:00   \n",
       "\n",
       "  saturday_to_time1 saturday_from_time2 saturday_to_time2  \\\n",
       "0          00:30:00            10:00:00          23:59:00   \n",
       "1          01:30:00            08:00:00          23:59:00   \n",
       "2          22:45:00                 NaN               NaN   \n",
       "3          23:45:00                 NaN               NaN   \n",
       "4          01:30:00            17:45:00          23:59:00   \n",
       "\n",
       "            primary_tags  open_close_flags                 vendor_tag  \\\n",
       "0   {\"primary_tags\":\"4\"}               1.0  2,4,5,8,91,22,12,24,16,23   \n",
       "1   {\"primary_tags\":\"7\"}               1.0  4,41,51,34,27,15,24,16,28   \n",
       "2  {\"primary_tags\":\"71\"}               1.0                  4,8,91,10   \n",
       "3  {\"primary_tags\":\"46\"}               1.0                  5,8,30,24   \n",
       "4  {\"primary_tags\":\"32\"}               1.0                          5   \n",
       "\n",
       "                                     vendor_tag_name one_click_vendor  \\\n",
       "0  Arabic,Breakfast,Burgers,Desserts,Free Deliver...                Y   \n",
       "1  Breakfast,Cakes,Crepes,Italian,Pasta,Pizzas,Sa...                Y   \n",
       "2            Breakfast,Desserts,Free Delivery,Indian                Y   \n",
       "3                      Burgers,Desserts,Fries,Salads                Y   \n",
       "4                                            Burgers                Y   \n",
       "\n",
       "   country_id  city_id           created_at           updated_at  device_type  \\\n",
       "0         1.0      1.0  2018-01-30 14:42:04  2020-04-07 15:12:43            3   \n",
       "1         1.0      1.0  2018-05-03 12:32:06  2020-04-05 20:46:03            3   \n",
       "2         1.0      1.0  2018-05-04 22:28:22  2020-04-07 16:35:55            3   \n",
       "3         1.0      1.0  2018-05-06 19:20:48  2020-04-02 00:56:17            3   \n",
       "4         1.0      1.0  2018-05-17 22:12:38  2020-04-05 15:57:41            3   \n",
       "\n",
       "   display_orders  \n",
       "0               1  \n",
       "1               1  \n",
       "2               1  \n",
       "3               1  \n",
       "4               1  "
      ]
     },
     "execution_count": 43,
     "metadata": {},
     "output_type": "execute_result"
    }
   ],
   "source": [
    "vendors.head()"
   ]
  },
  {
   "cell_type": "code",
   "execution_count": 45,
   "metadata": {},
   "outputs": [
    {
     "data": {
      "text/plain": [
       "display_orders            1\n",
       "city_id                   1\n",
       "country_id                1\n",
       "one_click_vendor          1\n",
       "is_akeed_delivering       1\n",
       "commission                1\n",
       "language                  1\n",
       "open_close_flags          1\n",
       "device_type               2\n",
       "rank                      2\n",
       "is_open                   2\n",
       "delivery_charge           2\n",
       "vendor_category_id        2\n",
       "vendor_category_en        2\n",
       "status                    2\n",
       "verified                  2\n",
       "discount_percentage       5\n",
       "tuesday_to_time2          6\n",
       "thursday_to_time2         7\n",
       "monday_to_time2           7\n",
       "sunday_to_time2           7\n",
       "saturday_to_time2         7\n",
       "friday_to_time2           7\n",
       "wednesday_to_time2        8\n",
       "serving_distance         10\n",
       "OpeningTime2             11\n",
       "vendor_rating            12\n",
       "prepration_time          14\n",
       "wednesday_from_time2     15\n",
       "tuesday_from_time2       15\n",
       "thursday_from_time2      16\n",
       "friday_from_time2        16\n",
       "sunday_from_time2        16\n",
       "monday_from_time2        16\n",
       "saturday_from_time2      17\n",
       "sunday_from_time1        19\n",
       "wednesday_from_time1     19\n",
       "thursday_from_time1      20\n",
       "monday_from_time1        20\n",
       "tuesday_from_time1       20\n",
       "friday_to_time1          22\n",
       "friday_from_time1        23\n",
       "saturday_to_time1        24\n",
       "saturday_from_time1      24\n",
       "tuesday_to_time1         26\n",
       "sunday_to_time1          27\n",
       "thursday_to_time1        27\n",
       "wednesday_to_time1       28\n",
       "monday_to_time1          28\n",
       "primary_tags             42\n",
       "OpeningTime              68\n",
       "vendor_tag               77\n",
       "vendor_tag_name          77\n",
       "updated_at               98\n",
       "latitude                 99\n",
       "longitude               100\n",
       "authentication_id       100\n",
       "created_at              100\n",
       "id                      100\n",
       "dtype: int64"
      ]
     },
     "execution_count": 45,
     "metadata": {},
     "output_type": "execute_result"
    }
   ],
   "source": [
    "# unique values per column\n",
    "vendors.nunique().sort_values()"
   ]
  },
  {
   "cell_type": "code",
   "execution_count": 46,
   "metadata": {},
   "outputs": [
    {
     "data": {
      "text/plain": [
       "<matplotlib.axes._subplots.AxesSubplot at 0x7f849e35c410>"
      ]
     },
     "execution_count": 46,
     "metadata": {},
     "output_type": "execute_result"
    },
    {
     "data": {
      "image/png": "[encoded data removed]",
      "text/plain": [
       "<Figure size 432x288 with 1 Axes>"
      ]
     },
     "metadata": {
      "needs_background": "light"
     },
     "output_type": "display_data"
    }
   ],
   "source": [
    "vendors.vendor_rating.plot.hist(bins=30)"
   ]
  },
  {
   "cell_type": "code",
   "execution_count": 47,
   "metadata": {},
   "outputs": [
    {
     "data": {
      "text/plain": [
       "<matplotlib.axes._subplots.AxesSubplot at 0x7f849e064150>"
      ]
     },
     "execution_count": 47,
     "metadata": {},
     "output_type": "execute_result"
    },
    {
     "data": {
      "image/png": "[encoded data removed]",
      "text/plain": [
       "<Figure size 432x288 with 1 Axes>"
      ]
     },
     "metadata": {
      "needs_background": "light"
     },
     "output_type": "display_data"
    }
   ],
   "source": [
    "vendors.delivery_charge.plot.hist()"
   ]
  },
  {
   "cell_type": "code",
   "execution_count": 48,
   "metadata": {},
   "outputs": [
    {
     "data": {
      "text/plain": [
       "<matplotlib.axes._subplots.AxesSubplot at 0x7f849df35650>"
      ]
     },
     "execution_count": 48,
     "metadata": {},
     "output_type": "execute_result"
    },
    {
     "data": {
      "image/png": "[encoded data removed]",
      "text/plain": [
       "<Figure size 432x288 with 1 Axes>"
      ]
     },
     "metadata": {
      "needs_background": "light"
     },
     "output_type": "display_data"
    }
   ],
   "source": [
    "vendors.serving_distance.plot.hist(bins=20)"
   ]
  },
  {
   "cell_type": "code",
   "execution_count": 49,
   "metadata": {},
   "outputs": [
    {
     "data": {
      "text/plain": [
       "<matplotlib.axes._subplots.AxesSubplot at 0x7f849ddde110>"
      ]
     },
     "execution_count": 49,
     "metadata": {},
     "output_type": "execute_result"
    },
    {
     "data": {
      "image/png": "[encoded data removed]",
      "text/plain": [
       "<Figure size 432x288 with 1 Axes>"
      ]
     },
     "metadata": {
      "needs_background": "light"
     },
     "output_type": "display_data"
    }
   ],
   "source": [
    "sns.scatterplot(data=vendors, x='latitude', y='longitude', alpha=.2)"
   ]
  },
  {
   "cell_type": "code",
   "execution_count": 96,
   "metadata": {},
   "outputs": [
    {
     "data": {
      "text/plain": [
       "<matplotlib.axes._subplots.AxesSubplot at 0x7f849b144610>"
      ]
     },
     "execution_count": 96,
     "metadata": {},
     "output_type": "execute_result"
    },
    {
     "data": {
      "image/png": "[encoded data removed]",
      "text/plain": [
       "<Figure size 432x288 with 1 Axes>"
      ]
     },
     "metadata": {
      "needs_background": "light"
     },
     "output_type": "display_data"
    }
   ],
   "source": [
    "sns.scatterplot(data=vendors.query('latitude < 4'), x='latitude', y='longitude', alpha=.2)"
   ]
  },
  {
   "cell_type": "markdown",
   "metadata": {},
   "source": [
    "**Insight**: Two outliers in vendor locations"
   ]
  },
  {
   "cell_type": "markdown",
   "metadata": {},
   "source": [
    "Seems like we have vendors only for that one major cluster in the locations data... not sure what to do with the other locations though, because we still need to make predictions for those. I guess we could just make all zeros predictions for those locations, because they are too far from any vendors. "
   ]
  },
  {
   "cell_type": "markdown",
   "metadata": {},
   "source": [
    "---"
   ]
  },
  {
   "cell_type": "markdown",
   "metadata": {},
   "source": [
    "### Customers\n",
    "\n",
    "**Process Steps**:\n",
    "* Rename `akeed_cusomter_id` to `customer_id`"
   ]
  },
  {
   "cell_type": "code",
   "execution_count": 97,
   "metadata": {},
   "outputs": [
    {
     "data": {
      "text/html": [
       "<div>\n",
       "<style scoped>\n",
       "    .dataframe tbody tr th:only-of-type {\n",
       "        vertical-align: middle;\n",
       "    }\n",
       "\n",
       "    .dataframe tbody tr th {\n",
       "        vertical-align: top;\n",
       "    }\n",
       "\n",
       "    .dataframe thead th {\n",
       "        text-align: right;\n",
       "    }\n",
       "</style>\n",
       "<table border=\"1\" class=\"dataframe\">\n",
       "  <thead>\n",
       "    <tr style=\"text-align: right;\">\n",
       "      <th></th>\n",
       "      <th>akeed_customer_id</th>\n",
       "      <th>gender</th>\n",
       "      <th>dob</th>\n",
       "      <th>status</th>\n",
       "      <th>verified</th>\n",
       "      <th>language</th>\n",
       "      <th>created_at</th>\n",
       "      <th>updated_at</th>\n",
       "    </tr>\n",
       "  </thead>\n",
       "  <tbody>\n",
       "    <tr>\n",
       "      <th>0</th>\n",
       "      <td>TCHWPBT</td>\n",
       "      <td>Male</td>\n",
       "      <td>NaN</td>\n",
       "      <td>1</td>\n",
       "      <td>1</td>\n",
       "      <td>EN</td>\n",
       "      <td>2018-02-07 19:16:23</td>\n",
       "      <td>2018-02-07 19:16:23</td>\n",
       "    </tr>\n",
       "    <tr>\n",
       "      <th>1</th>\n",
       "      <td>ZGFSYCZ</td>\n",
       "      <td>Male</td>\n",
       "      <td>NaN</td>\n",
       "      <td>1</td>\n",
       "      <td>1</td>\n",
       "      <td>EN</td>\n",
       "      <td>2018-02-09 12:04:42</td>\n",
       "      <td>2018-02-09 12:04:41</td>\n",
       "    </tr>\n",
       "    <tr>\n",
       "      <th>2</th>\n",
       "      <td>S2ALZFL</td>\n",
       "      <td>Male</td>\n",
       "      <td>NaN</td>\n",
       "      <td>0</td>\n",
       "      <td>1</td>\n",
       "      <td>EN</td>\n",
       "      <td>2018-03-14 18:31:43</td>\n",
       "      <td>2018-03-14 18:31:42</td>\n",
       "    </tr>\n",
       "    <tr>\n",
       "      <th>3</th>\n",
       "      <td>952DBJQ</td>\n",
       "      <td>Male</td>\n",
       "      <td>NaN</td>\n",
       "      <td>1</td>\n",
       "      <td>1</td>\n",
       "      <td>EN</td>\n",
       "      <td>2018-03-15 19:47:07</td>\n",
       "      <td>2018-03-15 19:47:07</td>\n",
       "    </tr>\n",
       "    <tr>\n",
       "      <th>4</th>\n",
       "      <td>1IX6FXS</td>\n",
       "      <td>Male</td>\n",
       "      <td>NaN</td>\n",
       "      <td>1</td>\n",
       "      <td>1</td>\n",
       "      <td>EN</td>\n",
       "      <td>2018-03-15 19:57:01</td>\n",
       "      <td>2018-03-15 19:57:01</td>\n",
       "    </tr>\n",
       "  </tbody>\n",
       "</table>\n",
       "</div>"
      ],
      "text/plain": [
       "  akeed_customer_id gender  dob  status  verified language  \\\n",
       "0           TCHWPBT   Male  NaN       1         1       EN   \n",
       "1           ZGFSYCZ   Male  NaN       1         1       EN   \n",
       "2           S2ALZFL   Male  NaN       0         1       EN   \n",
       "3           952DBJQ   Male  NaN       1         1       EN   \n",
       "4           1IX6FXS   Male  NaN       1         1       EN   \n",
       "\n",
       "            created_at           updated_at  \n",
       "0  2018-02-07 19:16:23  2018-02-07 19:16:23  \n",
       "1  2018-02-09 12:04:42  2018-02-09 12:04:41  \n",
       "2  2018-03-14 18:31:43  2018-03-14 18:31:42  \n",
       "3  2018-03-15 19:47:07  2018-03-15 19:47:07  \n",
       "4  2018-03-15 19:57:01  2018-03-15 19:57:01  "
      ]
     },
     "execution_count": 97,
     "metadata": {},
     "output_type": "execute_result"
    }
   ],
   "source": [
    "tr_customers.head()"
   ]
  },
  {
   "cell_type": "code",
   "execution_count": 98,
   "metadata": {},
   "outputs": [
    {
     "data": {
      "text/html": [
       "<div>\n",
       "<style scoped>\n",
       "    .dataframe tbody tr th:only-of-type {\n",
       "        vertical-align: middle;\n",
       "    }\n",
       "\n",
       "    .dataframe tbody tr th {\n",
       "        vertical-align: top;\n",
       "    }\n",
       "\n",
       "    .dataframe thead th {\n",
       "        text-align: right;\n",
       "    }\n",
       "</style>\n",
       "<table border=\"1\" class=\"dataframe\">\n",
       "  <thead>\n",
       "    <tr style=\"text-align: right;\">\n",
       "      <th></th>\n",
       "      <th>akeed_customer_id</th>\n",
       "      <th>gender</th>\n",
       "      <th>dob</th>\n",
       "      <th>status</th>\n",
       "      <th>verified</th>\n",
       "      <th>language</th>\n",
       "      <th>created_at</th>\n",
       "      <th>updated_at</th>\n",
       "    </tr>\n",
       "  </thead>\n",
       "  <tbody>\n",
       "    <tr>\n",
       "      <th>0</th>\n",
       "      <td>ICE2DJP</td>\n",
       "      <td>Male</td>\n",
       "      <td>NaN</td>\n",
       "      <td>1</td>\n",
       "      <td>1</td>\n",
       "      <td>EN</td>\n",
       "      <td>2018-02-07 16:45:36</td>\n",
       "      <td>2018-02-07 16:45:36</td>\n",
       "    </tr>\n",
       "    <tr>\n",
       "      <th>1</th>\n",
       "      <td>FWNUI71</td>\n",
       "      <td>Male</td>\n",
       "      <td>NaN</td>\n",
       "      <td>1</td>\n",
       "      <td>1</td>\n",
       "      <td>EN</td>\n",
       "      <td>2018-03-22 20:11:47</td>\n",
       "      <td>2018-03-22 20:11:47</td>\n",
       "    </tr>\n",
       "    <tr>\n",
       "      <th>2</th>\n",
       "      <td>LRX7BCH</td>\n",
       "      <td>Male</td>\n",
       "      <td>NaN</td>\n",
       "      <td>1</td>\n",
       "      <td>1</td>\n",
       "      <td>EN</td>\n",
       "      <td>2018-04-17 20:01:15</td>\n",
       "      <td>2018-04-17 20:01:15</td>\n",
       "    </tr>\n",
       "    <tr>\n",
       "      <th>3</th>\n",
       "      <td>D96DHMD</td>\n",
       "      <td>Male</td>\n",
       "      <td>NaN</td>\n",
       "      <td>1</td>\n",
       "      <td>1</td>\n",
       "      <td>EN</td>\n",
       "      <td>2018-04-29 22:35:52</td>\n",
       "      <td>2018-04-29 22:35:52</td>\n",
       "    </tr>\n",
       "    <tr>\n",
       "      <th>4</th>\n",
       "      <td>88Q8Y5V</td>\n",
       "      <td>Male</td>\n",
       "      <td>1997.0</td>\n",
       "      <td>1</td>\n",
       "      <td>1</td>\n",
       "      <td>EN</td>\n",
       "      <td>2018-05-05 12:38:09</td>\n",
       "      <td>2018-05-05 12:38:09</td>\n",
       "    </tr>\n",
       "  </tbody>\n",
       "</table>\n",
       "</div>"
      ],
      "text/plain": [
       "  akeed_customer_id gender     dob  status  verified language  \\\n",
       "0           ICE2DJP   Male     NaN       1         1       EN   \n",
       "1           FWNUI71   Male     NaN       1         1       EN   \n",
       "2           LRX7BCH   Male     NaN       1         1       EN   \n",
       "3           D96DHMD   Male     NaN       1         1       EN   \n",
       "4           88Q8Y5V   Male  1997.0       1         1       EN   \n",
       "\n",
       "            created_at           updated_at  \n",
       "0  2018-02-07 16:45:36  2018-02-07 16:45:36  \n",
       "1  2018-03-22 20:11:47  2018-03-22 20:11:47  \n",
       "2  2018-04-17 20:01:15  2018-04-17 20:01:15  \n",
       "3  2018-04-29 22:35:52  2018-04-29 22:35:52  \n",
       "4  2018-05-05 12:38:09  2018-05-05 12:38:09  "
      ]
     },
     "execution_count": 98,
     "metadata": {},
     "output_type": "execute_result"
    }
   ],
   "source": [
    "te_customers.head()"
   ]
  },
  {
   "cell_type": "code",
   "execution_count": 99,
   "metadata": {},
   "outputs": [
    {
     "data": {
      "text/plain": [
       "(False, 'has duplicates')"
      ]
     },
     "execution_count": 99,
     "metadata": {},
     "output_type": "execute_result"
    }
   ],
   "source": [
    "te_customers.shape[0] == te_customers.akeed_customer_id.nunique(), 'has duplicates'"
   ]
  },
  {
   "cell_type": "code",
   "execution_count": 100,
   "metadata": {},
   "outputs": [
    {
     "data": {
      "text/plain": [
       "(False, 'has duplicates')"
      ]
     },
     "execution_count": 100,
     "metadata": {},
     "output_type": "execute_result"
    }
   ],
   "source": [
    "tr_customers.shape[0] == tr_customers.akeed_customer_id.nunique(), 'has duplicates'"
   ]
  },
  {
   "cell_type": "code",
   "execution_count": 101,
   "metadata": {},
   "outputs": [
    {
     "name": "stdout",
     "output_type": "stream",
     "text": [
      "34523 customers in train\n",
      "9753 customers in test\n"
     ]
    }
   ],
   "source": [
    "print('{} customers in train'.format(tr_customers.akeed_customer_id.nunique()))\n",
    "print('{} customers in test'.format(te_customers.akeed_customer_id.nunique()))"
   ]
  },
  {
   "cell_type": "markdown",
   "metadata": {},
   "source": [
    "**Insights** \n",
    "* ~250 customers in test dataset with no meta data. \n",
    "* ~500 customers in train dataset with no meta data\n",
    "* There are duplicate accounts in train and test data"
   ]
  },
  {
   "cell_type": "code",
   "execution_count": null,
   "metadata": {},
   "outputs": [],
   "source": [
    "tr_customers.language.unique()"
   ]
  },
  {
   "cell_type": "code",
   "execution_count": null,
   "metadata": {},
   "outputs": [],
   "source": []
  },
  {
   "cell_type": "code",
   "execution_count": null,
   "metadata": {},
   "outputs": [],
   "source": []
  },
  {
   "cell_type": "code",
   "execution_count": null,
   "metadata": {},
   "outputs": [],
   "source": []
  },
  {
   "cell_type": "code",
   "execution_count": null,
   "metadata": {},
   "outputs": [],
   "source": []
  },
  {
   "cell_type": "markdown",
   "metadata": {},
   "source": [
    "## Join Things together"
   ]
  },
  {
   "cell_type": "code",
   "execution_count": 115,
   "metadata": {},
   "outputs": [],
   "source": [
    "locations['CID x LOC_NUM'] = locations['customer_id'] + ' X ' + locations['location_number'].astype(str)"
   ]
  },
  {
   "cell_type": "code",
   "execution_count": 110,
   "metadata": {},
   "outputs": [],
   "source": [
    "orders['CID x LOC_NUM'] = orders['customer_id'] + ' X ' + orders['LOCATION_NUMBER'].astype(str)"
   ]
  },
  {
   "cell_type": "code",
   "execution_count": 111,
   "metadata": {},
   "outputs": [
    {
     "data": {
      "text/html": [
       "<div>\n",
       "<style scoped>\n",
       "    .dataframe tbody tr th:only-of-type {\n",
       "        vertical-align: middle;\n",
       "    }\n",
       "\n",
       "    .dataframe tbody tr th {\n",
       "        vertical-align: top;\n",
       "    }\n",
       "\n",
       "    .dataframe thead th {\n",
       "        text-align: right;\n",
       "    }\n",
       "</style>\n",
       "<table border=\"1\" class=\"dataframe\">\n",
       "  <thead>\n",
       "    <tr style=\"text-align: right;\">\n",
       "      <th></th>\n",
       "      <th>akeed_order_id</th>\n",
       "      <th>customer_id</th>\n",
       "      <th>item_count</th>\n",
       "      <th>grand_total</th>\n",
       "      <th>payment_mode</th>\n",
       "      <th>promo_code</th>\n",
       "      <th>vendor_discount_amount</th>\n",
       "      <th>promo_code_discount_percentage</th>\n",
       "      <th>is_favorite</th>\n",
       "      <th>is_rated</th>\n",
       "      <th>vendor_rating</th>\n",
       "      <th>driver_rating</th>\n",
       "      <th>deliverydistance</th>\n",
       "      <th>preparationtime</th>\n",
       "      <th>delivery_time</th>\n",
       "      <th>order_accepted_time</th>\n",
       "      <th>driver_accepted_time</th>\n",
       "      <th>ready_for_pickup_time</th>\n",
       "      <th>picked_up_time</th>\n",
       "      <th>delivered_time</th>\n",
       "      <th>delivery_date</th>\n",
       "      <th>vendor_id</th>\n",
       "      <th>created_at</th>\n",
       "      <th>LOCATION_NUMBER</th>\n",
       "      <th>LOCATION_TYPE</th>\n",
       "      <th>CID X LOC_NUM X VENDOR</th>\n",
       "      <th>CID x LOC_NUM</th>\n",
       "    </tr>\n",
       "  </thead>\n",
       "  <tbody>\n",
       "    <tr>\n",
       "      <th>0</th>\n",
       "      <td>163238.0</td>\n",
       "      <td>92PEE24</td>\n",
       "      <td>1.0</td>\n",
       "      <td>7.6</td>\n",
       "      <td>2</td>\n",
       "      <td>NaN</td>\n",
       "      <td>0.0</td>\n",
       "      <td>NaN</td>\n",
       "      <td>NaN</td>\n",
       "      <td>No</td>\n",
       "      <td>NaN</td>\n",
       "      <td>0.0</td>\n",
       "      <td>0.0</td>\n",
       "      <td>NaN</td>\n",
       "      <td>NaN</td>\n",
       "      <td>NaN</td>\n",
       "      <td>NaN</td>\n",
       "      <td>NaN</td>\n",
       "      <td>NaN</td>\n",
       "      <td>NaN</td>\n",
       "      <td>2019-07-31 05:30:00</td>\n",
       "      <td>105</td>\n",
       "      <td>2019-08-01 05:30:16</td>\n",
       "      <td>0</td>\n",
       "      <td>NaN</td>\n",
       "      <td>92PEE24 X 0 X 105</td>\n",
       "      <td>92PEE24 X 0</td>\n",
       "    </tr>\n",
       "    <tr>\n",
       "      <th>1</th>\n",
       "      <td>163240.0</td>\n",
       "      <td>QS68UD8</td>\n",
       "      <td>1.0</td>\n",
       "      <td>8.7</td>\n",
       "      <td>1</td>\n",
       "      <td>NaN</td>\n",
       "      <td>0.0</td>\n",
       "      <td>NaN</td>\n",
       "      <td>NaN</td>\n",
       "      <td>No</td>\n",
       "      <td>NaN</td>\n",
       "      <td>0.0</td>\n",
       "      <td>0.0</td>\n",
       "      <td>NaN</td>\n",
       "      <td>NaN</td>\n",
       "      <td>NaN</td>\n",
       "      <td>NaN</td>\n",
       "      <td>NaN</td>\n",
       "      <td>NaN</td>\n",
       "      <td>NaN</td>\n",
       "      <td>2019-07-31 05:30:00</td>\n",
       "      <td>294</td>\n",
       "      <td>2019-08-01 05:31:10</td>\n",
       "      <td>0</td>\n",
       "      <td>Work</td>\n",
       "      <td>QS68UD8 X 0 X 294</td>\n",
       "      <td>QS68UD8 X 0</td>\n",
       "    </tr>\n",
       "    <tr>\n",
       "      <th>2</th>\n",
       "      <td>163241.0</td>\n",
       "      <td>MB7VY5F</td>\n",
       "      <td>2.0</td>\n",
       "      <td>14.4</td>\n",
       "      <td>1</td>\n",
       "      <td>NaN</td>\n",
       "      <td>0.0</td>\n",
       "      <td>NaN</td>\n",
       "      <td>NaN</td>\n",
       "      <td>No</td>\n",
       "      <td>NaN</td>\n",
       "      <td>0.0</td>\n",
       "      <td>0.0</td>\n",
       "      <td>NaN</td>\n",
       "      <td>NaN</td>\n",
       "      <td>NaN</td>\n",
       "      <td>NaN</td>\n",
       "      <td>NaN</td>\n",
       "      <td>NaN</td>\n",
       "      <td>NaN</td>\n",
       "      <td>2019-07-31 05:30:00</td>\n",
       "      <td>83</td>\n",
       "      <td>2019-08-01 05:31:33</td>\n",
       "      <td>0</td>\n",
       "      <td>NaN</td>\n",
       "      <td>MB7VY5F X 0 X 83</td>\n",
       "      <td>MB7VY5F X 0</td>\n",
       "    </tr>\n",
       "    <tr>\n",
       "      <th>3</th>\n",
       "      <td>163244.0</td>\n",
       "      <td>KDJ951Y</td>\n",
       "      <td>1.0</td>\n",
       "      <td>7.1</td>\n",
       "      <td>1</td>\n",
       "      <td>NaN</td>\n",
       "      <td>0.0</td>\n",
       "      <td>NaN</td>\n",
       "      <td>NaN</td>\n",
       "      <td>No</td>\n",
       "      <td>NaN</td>\n",
       "      <td>0.0</td>\n",
       "      <td>0.0</td>\n",
       "      <td>NaN</td>\n",
       "      <td>2019-08-01 04:03:00</td>\n",
       "      <td>NaN</td>\n",
       "      <td>NaN</td>\n",
       "      <td>NaN</td>\n",
       "      <td>NaN</td>\n",
       "      <td>NaN</td>\n",
       "      <td>2019-07-31 05:30:00</td>\n",
       "      <td>90</td>\n",
       "      <td>2019-08-01 05:34:54</td>\n",
       "      <td>0</td>\n",
       "      <td>Home</td>\n",
       "      <td>KDJ951Y X 0 X 90</td>\n",
       "      <td>KDJ951Y X 0</td>\n",
       "    </tr>\n",
       "    <tr>\n",
       "      <th>4</th>\n",
       "      <td>163245.0</td>\n",
       "      <td>BAL0RVT</td>\n",
       "      <td>4.0</td>\n",
       "      <td>27.2</td>\n",
       "      <td>1</td>\n",
       "      <td>NaN</td>\n",
       "      <td>0.0</td>\n",
       "      <td>NaN</td>\n",
       "      <td>NaN</td>\n",
       "      <td>No</td>\n",
       "      <td>NaN</td>\n",
       "      <td>0.0</td>\n",
       "      <td>0.0</td>\n",
       "      <td>NaN</td>\n",
       "      <td>NaN</td>\n",
       "      <td>NaN</td>\n",
       "      <td>NaN</td>\n",
       "      <td>NaN</td>\n",
       "      <td>NaN</td>\n",
       "      <td>NaN</td>\n",
       "      <td>2019-07-31 05:30:00</td>\n",
       "      <td>83</td>\n",
       "      <td>2019-08-01 05:35:51</td>\n",
       "      <td>0</td>\n",
       "      <td>Work</td>\n",
       "      <td>BAL0RVT X 0 X 83</td>\n",
       "      <td>BAL0RVT X 0</td>\n",
       "    </tr>\n",
       "  </tbody>\n",
       "</table>\n",
       "</div>"
      ],
      "text/plain": [
       "   akeed_order_id customer_id  item_count  grand_total  payment_mode  \\\n",
       "0        163238.0     92PEE24         1.0          7.6             2   \n",
       "1        163240.0     QS68UD8         1.0          8.7             1   \n",
       "2        163241.0     MB7VY5F         2.0         14.4             1   \n",
       "3        163244.0     KDJ951Y         1.0          7.1             1   \n",
       "4        163245.0     BAL0RVT         4.0         27.2             1   \n",
       "\n",
       "  promo_code  vendor_discount_amount  promo_code_discount_percentage  \\\n",
       "0        NaN                     0.0                             NaN   \n",
       "1        NaN                     0.0                             NaN   \n",
       "2        NaN                     0.0                             NaN   \n",
       "3        NaN                     0.0                             NaN   \n",
       "4        NaN                     0.0                             NaN   \n",
       "\n",
       "  is_favorite is_rated  vendor_rating  driver_rating  deliverydistance  \\\n",
       "0         NaN       No            NaN            0.0               0.0   \n",
       "1         NaN       No            NaN            0.0               0.0   \n",
       "2         NaN       No            NaN            0.0               0.0   \n",
       "3         NaN       No            NaN            0.0               0.0   \n",
       "4         NaN       No            NaN            0.0               0.0   \n",
       "\n",
       "   preparationtime        delivery_time order_accepted_time  \\\n",
       "0              NaN                  NaN                 NaN   \n",
       "1              NaN                  NaN                 NaN   \n",
       "2              NaN                  NaN                 NaN   \n",
       "3              NaN  2019-08-01 04:03:00                 NaN   \n",
       "4              NaN                  NaN                 NaN   \n",
       "\n",
       "  driver_accepted_time ready_for_pickup_time picked_up_time delivered_time  \\\n",
       "0                  NaN                   NaN            NaN            NaN   \n",
       "1                  NaN                   NaN            NaN            NaN   \n",
       "2                  NaN                   NaN            NaN            NaN   \n",
       "3                  NaN                   NaN            NaN            NaN   \n",
       "4                  NaN                   NaN            NaN            NaN   \n",
       "\n",
       "         delivery_date  vendor_id           created_at  LOCATION_NUMBER  \\\n",
       "0  2019-07-31 05:30:00        105  2019-08-01 05:30:16                0   \n",
       "1  2019-07-31 05:30:00        294  2019-08-01 05:31:10                0   \n",
       "2  2019-07-31 05:30:00         83  2019-08-01 05:31:33                0   \n",
       "3  2019-07-31 05:30:00         90  2019-08-01 05:34:54                0   \n",
       "4  2019-07-31 05:30:00         83  2019-08-01 05:35:51                0   \n",
       "\n",
       "  LOCATION_TYPE CID X LOC_NUM X VENDOR CID x LOC_NUM  \n",
       "0           NaN      92PEE24 X 0 X 105   92PEE24 X 0  \n",
       "1          Work      QS68UD8 X 0 X 294   QS68UD8 X 0  \n",
       "2           NaN       MB7VY5F X 0 X 83   MB7VY5F X 0  \n",
       "3          Home       KDJ951Y X 0 X 90   KDJ951Y X 0  \n",
       "4          Work       BAL0RVT X 0 X 83   BAL0RVT X 0  "
      ]
     },
     "execution_count": 111,
     "metadata": {},
     "output_type": "execute_result"
    }
   ],
   "source": [
    "orders.head()"
   ]
  },
  {
   "cell_type": "code",
   "execution_count": 117,
   "metadata": {},
   "outputs": [
    {
     "data": {
      "text/html": [
       "<div>\n",
       "<style scoped>\n",
       "    .dataframe tbody tr th:only-of-type {\n",
       "        vertical-align: middle;\n",
       "    }\n",
       "\n",
       "    .dataframe tbody tr th {\n",
       "        vertical-align: top;\n",
       "    }\n",
       "\n",
       "    .dataframe thead th {\n",
       "        text-align: right;\n",
       "    }\n",
       "</style>\n",
       "<table border=\"1\" class=\"dataframe\">\n",
       "  <thead>\n",
       "    <tr style=\"text-align: right;\">\n",
       "      <th></th>\n",
       "      <th>location_type</th>\n",
       "      <th>latitude</th>\n",
       "      <th>longitude</th>\n",
       "      <th>CID x LOC_NUM</th>\n",
       "    </tr>\n",
       "  </thead>\n",
       "  <tbody>\n",
       "    <tr>\n",
       "      <th>0</th>\n",
       "      <td>NaN</td>\n",
       "      <td>1.682392</td>\n",
       "      <td>-78.789737</td>\n",
       "      <td>02SFNJH X 0</td>\n",
       "    </tr>\n",
       "    <tr>\n",
       "      <th>1</th>\n",
       "      <td>NaN</td>\n",
       "      <td>1.679137</td>\n",
       "      <td>0.766823</td>\n",
       "      <td>02SFNJH X 1</td>\n",
       "    </tr>\n",
       "    <tr>\n",
       "      <th>2</th>\n",
       "      <td>NaN</td>\n",
       "      <td>-0.498648</td>\n",
       "      <td>0.661241</td>\n",
       "      <td>02SFNJH X 2</td>\n",
       "    </tr>\n",
       "    <tr>\n",
       "      <th>3</th>\n",
       "      <td>Home</td>\n",
       "      <td>0.100853</td>\n",
       "      <td>0.438165</td>\n",
       "      <td>RU43CXC X 0</td>\n",
       "    </tr>\n",
       "    <tr>\n",
       "      <th>4</th>\n",
       "      <td>NaN</td>\n",
       "      <td>2.523125</td>\n",
       "      <td>0.733464</td>\n",
       "      <td>BDFBPRD X 0</td>\n",
       "    </tr>\n",
       "    <tr>\n",
       "      <th>...</th>\n",
       "      <td>...</td>\n",
       "      <td>...</td>\n",
       "      <td>...</td>\n",
       "      <td>...</td>\n",
       "    </tr>\n",
       "    <tr>\n",
       "      <th>16715</th>\n",
       "      <td>NaN</td>\n",
       "      <td>-0.197722</td>\n",
       "      <td>0.609199</td>\n",
       "      <td>L9G4OFV X 4</td>\n",
       "    </tr>\n",
       "    <tr>\n",
       "      <th>16716</th>\n",
       "      <td>NaN</td>\n",
       "      <td>-0.343042</td>\n",
       "      <td>0.626064</td>\n",
       "      <td>L9G4OFV X 5</td>\n",
       "    </tr>\n",
       "    <tr>\n",
       "      <th>16717</th>\n",
       "      <td>Home</td>\n",
       "      <td>-0.974907</td>\n",
       "      <td>-0.177863</td>\n",
       "      <td>FDZFYBA X 0</td>\n",
       "    </tr>\n",
       "    <tr>\n",
       "      <th>16718</th>\n",
       "      <td>Other</td>\n",
       "      <td>1.058539</td>\n",
       "      <td>0.001628</td>\n",
       "      <td>UTKHR1C X 0</td>\n",
       "    </tr>\n",
       "    <tr>\n",
       "      <th>16719</th>\n",
       "      <td>Other</td>\n",
       "      <td>-0.188562</td>\n",
       "      <td>0.827181</td>\n",
       "      <td>3O8LSR3 X 0</td>\n",
       "    </tr>\n",
       "  </tbody>\n",
       "</table>\n",
       "<p>76223 rows × 4 columns</p>\n",
       "</div>"
      ],
      "text/plain": [
       "      location_type  latitude  longitude CID x LOC_NUM\n",
       "0               NaN  1.682392 -78.789737   02SFNJH X 0\n",
       "1               NaN  1.679137   0.766823   02SFNJH X 1\n",
       "2               NaN -0.498648   0.661241   02SFNJH X 2\n",
       "3              Home  0.100853   0.438165   RU43CXC X 0\n",
       "4               NaN  2.523125   0.733464   BDFBPRD X 0\n",
       "...             ...       ...        ...           ...\n",
       "16715           NaN -0.197722   0.609199   L9G4OFV X 4\n",
       "16716           NaN -0.343042   0.626064   L9G4OFV X 5\n",
       "16717          Home -0.974907  -0.177863   FDZFYBA X 0\n",
       "16718         Other  1.058539   0.001628   UTKHR1C X 0\n",
       "16719         Other -0.188562   0.827181   3O8LSR3 X 0\n",
       "\n",
       "[76223 rows x 4 columns]"
      ]
     },
     "execution_count": 117,
     "metadata": {},
     "output_type": "execute_result"
    }
   ],
   "source": [
    "locations[['location_type','latitude','longitude','CID x LOC_NUM']]"
   ]
  },
  {
   "cell_type": "code",
   "execution_count": null,
   "metadata": {},
   "outputs": [],
   "source": []
  }
 ],
 "metadata": {
  "kernelspec": {
   "display_name": "Python 3",
   "language": "python",
   "name": "python3"
  },
  "language_info": {
   "codemirror_mode": {
    "name": "ipython",
    "version": 3
   },
   "file_extension": ".py",
   "mimetype": "text/x-python",
   "name": "python",
   "nbconvert_exporter": "python",
   "pygments_lexer": "ipython3",
   "version": "3.7.6"
  }
 },
 "nbformat": 4,
 "nbformat_minor": 4
}
